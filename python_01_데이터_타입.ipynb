{
  "nbformat": 4,
  "nbformat_minor": 0,
  "metadata": {
    "colab": {
      "provenance": [],
      "authorship_tag": "ABX9TyPZNkIEN4Yv6Aglz1weR7tT",
      "include_colab_link": true
    },
    "kernelspec": {
      "name": "python3",
      "display_name": "Python 3"
    },
    "language_info": {
      "name": "python"
    }
  },
  "cells": [
    {
      "cell_type": "markdown",
      "metadata": {
        "id": "view-in-github",
        "colab_type": "text"
      },
      "source": [
        "<a href=\"https://colab.research.google.com/github/sinku247/ms-py-colab/blob/main/python_01_%EB%8D%B0%EC%9D%B4%ED%84%B0_%ED%83%80%EC%9E%85.ipynb\" target=\"_parent\"><img src=\"https://colab.research.google.com/assets/colab-badge.svg\" alt=\"Open In Colab\"/></a>"
      ]
    },
    {
      "cell_type": "code",
      "execution_count": null,
      "metadata": {
        "colab": {
          "base_uri": "https://localhost:8080/"
        },
        "id": "Mqh4G0E0EVZI",
        "outputId": "036c761e-3272-44f1-94bd-e02fb498ebc1"
      },
      "outputs": [
        {
          "output_type": "stream",
          "name": "stdout",
          "text": [
            "hello world\n"
          ]
        }
      ],
      "source": [
        "print('hello world')"
      ]
    },
    {
      "cell_type": "markdown",
      "source": [
        "# 큰글씨\n",
        "\n",
        "아이유 콘서트 티켓팅 빡셈\n"
      ],
      "metadata": {
        "id": "El2XXVbvFPFY"
      }
    },
    {
      "cell_type": "code",
      "source": [
        "#변수 규칙칙\n",
        "a=1\n",
        "b=2\n",
        "#2a = 3 항상 변수는 문자로 시작해야 한다.\n",
        "student_count=100 #가급적 풀 워드, 영어로 짓는다.\n",
        "address = \"\"\n",
        "print(a*b, student_count)\n"
      ],
      "metadata": {
        "colab": {
          "base_uri": "https://localhost:8080/"
        },
        "id": "eryCN42QJza1",
        "outputId": "382f047d-4082-422c-d666-b872632748b9"
      },
      "execution_count": null,
      "outputs": [
        {
          "output_type": "stream",
          "name": "stdout",
          "text": [
            "2\n"
          ]
        }
      ]
    },
    {
      "cell_type": "code",
      "source": [
        "#대소문자를 구분함함\n",
        "friend=1\n",
        "Friend=10\n",
        "print(friend)\n"
      ],
      "metadata": {
        "colab": {
          "base_uri": "https://localhost:8080/"
        },
        "id": "dl3IplleQOYn",
        "outputId": "7cfd7001-7008-4ecc-b8b9-025ece38e8f6"
      },
      "execution_count": null,
      "outputs": [
        {
          "output_type": "stream",
          "name": "stdout",
          "text": [
            "1\n"
          ]
        }
      ]
    },
    {
      "cell_type": "code",
      "source": [
        "#예약어, 명령어는 사용할 수 없다.\n",
        "\n",
        "for = 1\n"
      ],
      "metadata": {
        "colab": {
          "base_uri": "https://localhost:8080/",
          "height": 136
        },
        "id": "uOyAA7AyQzWn",
        "outputId": "9643d95f-ed1f-4dad-821b-f2b67a16a5b4"
      },
      "execution_count": null,
      "outputs": [
        {
          "output_type": "error",
          "ename": "SyntaxError",
          "evalue": "ignored",
          "traceback": [
            "\u001b[0;36m  File \u001b[0;32m\"<ipython-input-6-3377725e33b4>\"\u001b[0;36m, line \u001b[0;32m3\u001b[0m\n\u001b[0;31m    for = 1\u001b[0m\n\u001b[0m        ^\u001b[0m\n\u001b[0;31mSyntaxError\u001b[0m\u001b[0;31m:\u001b[0m invalid syntax\n"
          ]
        }
      ]
    },
    {
      "cell_type": "code",
      "source": [
        "#숫자형\n",
        "\n",
        "year = 2023\n",
        "month = 4\n",
        "print(year, month)"
      ],
      "metadata": {
        "colab": {
          "base_uri": "https://localhost:8080/"
        },
        "id": "acqfOcocRJLt",
        "outputId": "bf3cc081-63f6-4294-c503-dc3a46d94062"
      },
      "execution_count": null,
      "outputs": [
        {
          "output_type": "stream",
          "name": "stdout",
          "text": [
            "2023 4\n"
          ]
        }
      ]
    },
    {
      "cell_type": "code",
      "source": [
        "year = 2023\n",
        "print(type(year)) #type() 데이터의 타입을 확인하는 함수수\n",
        "year = '이천이십삼년'\n",
        "print(type(year))"
      ],
      "metadata": {
        "colab": {
          "base_uri": "https://localhost:8080/"
        },
        "id": "-mKcFNjIRfHm",
        "outputId": "e5ef3f5c-fed3-458a-a325-053a3fc631e2"
      },
      "execution_count": null,
      "outputs": [
        {
          "output_type": "stream",
          "name": "stdout",
          "text": [
            "<class 'int'>\n",
            "<class 'str'>\n"
          ]
        }
      ]
    },
    {
      "cell_type": "code",
      "source": [
        "#8진수\n",
        "#정수 앞에 0o를 붙이면 8진수가 된다.\n",
        "\n",
        "print(0o10)\n",
        "\n",
        "#정수 앞에 0b를 붙이면 2진수\n",
        "#정수 앞에 0x를 붙이면 16진수\n",
        "print(0b10)\n",
        "print(0x10)"
      ],
      "metadata": {
        "colab": {
          "base_uri": "https://localhost:8080/"
        },
        "id": "ULgn6HIOSLgI",
        "outputId": "1f7c721c-03cf-44e1-8fc2-992c646ff07e"
      },
      "execution_count": null,
      "outputs": [
        {
          "output_type": "stream",
          "name": "stdout",
          "text": [
            "8\n",
            "2\n",
            "16\n"
          ]
        }
      ]
    },
    {
      "cell_type": "code",
      "source": [
        "# 10진수를 받아서 각 진수로 변환하는 방법(결과가 문자형)\n",
        "print(oct(38)) #10진수 38을 8진수로 변환환\n",
        "print(hex(38)) #10진수 38을 16진수로 변환환\n",
        "print(bin(38)) #10진수 38을 2진수로 변환환"
      ],
      "metadata": {
        "colab": {
          "base_uri": "https://localhost:8080/"
        },
        "id": "lyIc-SfcTctB",
        "outputId": "7afe7aab-7b8f-497b-8a83-ad6284974802"
      },
      "execution_count": null,
      "outputs": [
        {
          "output_type": "stream",
          "name": "stdout",
          "text": [
            "0o46\n",
            "0x26\n",
            "0b100110\n"
          ]
        }
      ]
    },
    {
      "cell_type": "code",
      "source": [
        "#파이썬의 정수 타입\n",
        "print(type(1))        #int\n",
        "print(type(314e-2))   #float\n",
        "print(type(2**31))    #int"
      ],
      "metadata": {
        "colab": {
          "base_uri": "https://localhost:8080/"
        },
        "id": "hIAkleD2UUUL",
        "outputId": "673fafa5-4c40-4089-fe8f-b64c038f12ba"
      },
      "execution_count": null,
      "outputs": [
        {
          "output_type": "stream",
          "name": "stdout",
          "text": [
            "<class 'int'>\n",
            "<class 'float'>\n",
            "<class 'int'>\n"
          ]
        }
      ]
    },
    {
      "cell_type": "code",
      "source": [
        "print(type(3.14))\n",
        "print(type(314e-2))\n",
        "print(type(3-4j))     #복소수\n",
        "x = 3 -4j\n",
        "print(x.imag)         #imag = 허수부부\n",
        "print(x.real)         #real = 실수부부\n",
        "print(x.conjugate())  #conjuage는 전체를 확인"
      ],
      "metadata": {
        "colab": {
          "base_uri": "https://localhost:8080/"
        },
        "id": "eH_QjehPVfwM",
        "outputId": "29805796-a6af-451e-9865-b671a965097c"
      },
      "execution_count": null,
      "outputs": [
        {
          "output_type": "stream",
          "name": "stdout",
          "text": [
            "<class 'float'>\n",
            "<class 'float'>\n",
            "<class 'complex'>\n",
            "-4.0\n",
            "3.0\n",
            "(3+4j)\n"
          ]
        }
      ]
    },
    {
      "cell_type": "code",
      "source": [
        "#원의 넓이와 삼각형 넓이 구하기\n",
        "r=2\n",
        "circle_area = (r ** 2) * 3.14\n",
        "print (circle_area)\n",
        "\n",
        "x=3\n",
        "y=4\n",
        "\n",
        "triangle_area = x*y/2\n",
        "\n",
        "print(triangle_area)"
      ],
      "metadata": {
        "colab": {
          "base_uri": "https://localhost:8080/"
        },
        "id": "iGi4RqunVkAT",
        "outputId": "9a4dd631-c99c-4b5e-aa26-36b84251c8cb"
      },
      "execution_count": null,
      "outputs": [
        {
          "output_type": "stream",
          "name": "stdout",
          "text": [
            "12.56\n",
            "6.0\n"
          ]
        }
      ]
    },
    {
      "cell_type": "code",
      "source": [
        "#문자형 실습\n",
        "print('hello world')\n",
        "print(\"hello world\")\n",
        "print(\"welcome to 'python world'\")"
      ],
      "metadata": {
        "colab": {
          "base_uri": "https://localhost:8080/"
        },
        "id": "k79TNveRpLDM",
        "outputId": "aa9a4656-e3a0-4b07-dcb3-681da3a61c9e"
      },
      "execution_count": null,
      "outputs": [
        {
          "output_type": "stream",
          "name": "stdout",
          "text": [
            "hello world\n",
            "hello world\n",
            "welcome to 'python world'\n"
          ]
        }
      ]
    },
    {
      "cell_type": "code",
      "source": [
        "print('''\n",
        "항상 태양을 바라보아라\n",
        "그리하면 너는 그림자를 볼 수 없을 것이다.\n",
        "                -헬렌켈러러\n",
        "''')"
      ],
      "metadata": {
        "colab": {
          "base_uri": "https://localhost:8080/"
        },
        "id": "qyuBgfRvpyNh",
        "outputId": "8761c045-a65b-4f5b-c4e6-fcad3ac2eed6"
      },
      "execution_count": null,
      "outputs": [
        {
          "output_type": "stream",
          "name": "stdout",
          "text": [
            "\n",
            "항상 태양을 바라보아라\n",
            "그리하면 너는 그림자를 볼 수 없을 것이다.\n",
            "                -헬렌켈러러\n",
            "\n"
          ]
        }
      ]
    },
    {
      "cell_type": "code",
      "source": [
        "print('\\t탭 \\n다음줄')"
      ],
      "metadata": {
        "colab": {
          "base_uri": "https://localhost:8080/"
        },
        "id": "t3dsWAJGqE2c",
        "outputId": "b161215e-8276-4d85-b4b1-efe6b7609b6d"
      },
      "execution_count": null,
      "outputs": [
        {
          "output_type": "stream",
          "name": "stdout",
          "text": [
            "\t탭 \n",
            "다음줄\n"
          ]
        }
      ]
    },
    {
      "cell_type": "code",
      "source": [
        "print('py''thon')\n",
        "print('py'+'thon')"
      ],
      "metadata": {
        "colab": {
          "base_uri": "https://localhost:8080/"
        },
        "id": "bOLWANgyqri4",
        "outputId": "9798004b-3580-41d4-9f50-b7e0447f6e35"
      },
      "execution_count": null,
      "outputs": [
        {
          "output_type": "stream",
          "name": "stdout",
          "text": [
            "python\n",
            "python\n"
          ]
        }
      ]
    },
    {
      "cell_type": "code",
      "source": [
        "print('py'*3)"
      ],
      "metadata": {
        "colab": {
          "base_uri": "https://localhost:8080/"
        },
        "id": "baJnLUZIq1m3",
        "outputId": "05265d66-5336-4a7f-f58c-bf35b6af6a05"
      },
      "execution_count": null,
      "outputs": [
        {
          "output_type": "stream",
          "name": "stdout",
          "text": [
            "pypypy\n"
          ]
        }
      ]
    },
    {
      "cell_type": "code",
      "source": [
        "a='Python'\n",
        "print(a[0])\n",
        "print(a[0+1])\n",
        "print(a[2])"
      ],
      "metadata": {
        "colab": {
          "base_uri": "https://localhost:8080/"
        },
        "id": "FQq0Pufus31a",
        "outputId": "0d5b7fe2-ae1a-4b0c-9885-05ef9505f61d"
      },
      "execution_count": null,
      "outputs": [
        {
          "output_type": "stream",
          "name": "stdout",
          "text": [
            "P\n",
            "y\n",
            "t\n"
          ]
        }
      ]
    },
    {
      "cell_type": "code",
      "source": [
        "a[0]='A' #index read-only 속성이라 수정은 불가능합니다."
      ],
      "metadata": {
        "id": "PbUSyWKftMe0"
      },
      "execution_count": null,
      "outputs": []
    },
    {
      "cell_type": "code",
      "source": [
        "#index를 이용해서 범위를 설정할 수 있다\n",
        "print(a[0:1])\n",
        "print(a[1:4])\n",
        "print(a[:2])\n",
        "print(a[2:])\n",
        "print(a[-2:])\n",
        "print(a[:])\n",
        "print(a[::2])\n"
      ],
      "metadata": {
        "colab": {
          "base_uri": "https://localhost:8080/"
        },
        "id": "X9kqqGHXtXKY",
        "outputId": "db067afc-f9e1-4e30-faff-e4aef36b5d3b"
      },
      "execution_count": null,
      "outputs": [
        {
          "output_type": "stream",
          "name": "stdout",
          "text": [
            "P\n",
            "yth\n",
            "Py\n",
            "thon\n",
            "on\n",
            "Python\n",
            "Pto\n"
          ]
        }
      ]
    },
    {
      "cell_type": "code",
      "source": [
        "# 데이터 타입의 변환\n",
        "print(str(3.14))              #문자형으로 변환\n",
        "print(int('49'))              #정수형으로 변환\n",
        "print(float(23))              #실수형으로 변환\n"
      ],
      "metadata": {
        "colab": {
          "base_uri": "https://localhost:8080/"
        },
        "id": "yXNqT3axuLfy",
        "outputId": "4b4e3b55-9fe8-4e9b-a453-aaa1296232f4"
      },
      "execution_count": null,
      "outputs": [
        {
          "output_type": "stream",
          "name": "stdout",
          "text": [
            "3.14\n",
            "49\n",
            "23.0\n"
          ]
        }
      ]
    }
  ]
}