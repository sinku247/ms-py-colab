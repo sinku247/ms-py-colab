{
  "nbformat": 4,
  "nbformat_minor": 0,
  "metadata": {
    "colab": {
      "provenance": [],
      "authorship_tag": "ABX9TyMrWHkVzn0JdH6MqbdYlmOu",
      "include_colab_link": true
    },
    "kernelspec": {
      "name": "python3",
      "display_name": "Python 3"
    },
    "language_info": {
      "name": "python"
    }
  },
  "cells": [
    {
      "cell_type": "markdown",
      "metadata": {
        "id": "view-in-github",
        "colab_type": "text"
      },
      "source": [
        "<a href=\"https://colab.research.google.com/github/sinku247/ms-py-colab/blob/main/PythonAzure03_Queue.ipynb\" target=\"_parent\"><img src=\"https://colab.research.google.com/assets/colab-badge.svg\" alt=\"Open In Colab\"/></a>"
      ]
    },
    {
      "cell_type": "code",
      "execution_count": null,
      "metadata": {
        "colab": {
          "base_uri": "https://localhost:8080/"
        },
        "id": "fcrqKcw0WzoH",
        "outputId": "6bf070cc-069d-42c8-9d21-a42742f702cd"
      },
      "outputs": [
        {
          "output_type": "stream",
          "name": "stdout",
          "text": [
            "Looking in indexes: https://pypi.org/simple, https://us-python.pkg.dev/colab-wheels/public/simple/\n",
            "Collecting azure-storage-queue==2.1.0\n",
            "  Downloading azure_storage_queue-2.1.0-py2.py3-none-any.whl (24 kB)\n",
            "Collecting azure-common>=1.1.5\n",
            "  Downloading azure_common-1.1.28-py2.py3-none-any.whl (14 kB)\n",
            "Collecting azure-storage-common~=2.1\n",
            "  Downloading azure_storage_common-2.1.0-py2.py3-none-any.whl (47 kB)\n",
            "\u001b[2K     \u001b[90m━━━━━━━━━━━━━━━━━━━━━━━━━━━━━━━━━━━━━━━━\u001b[0m \u001b[32m47.8/47.8 kB\u001b[0m \u001b[31m1.7 MB/s\u001b[0m eta \u001b[36m0:00:00\u001b[0m\n",
            "\u001b[?25hRequirement already satisfied: cryptography in /usr/local/lib/python3.9/dist-packages (from azure-storage-common~=2.1->azure-storage-queue==2.1.0) (40.0.2)\n",
            "Requirement already satisfied: requests in /usr/local/lib/python3.9/dist-packages (from azure-storage-common~=2.1->azure-storage-queue==2.1.0) (2.27.1)\n",
            "Requirement already satisfied: python-dateutil in /usr/local/lib/python3.9/dist-packages (from azure-storage-common~=2.1->azure-storage-queue==2.1.0) (2.8.2)\n",
            "Requirement already satisfied: cffi>=1.12 in /usr/local/lib/python3.9/dist-packages (from cryptography->azure-storage-common~=2.1->azure-storage-queue==2.1.0) (1.15.1)\n",
            "Requirement already satisfied: six>=1.5 in /usr/local/lib/python3.9/dist-packages (from python-dateutil->azure-storage-common~=2.1->azure-storage-queue==2.1.0) (1.16.0)\n",
            "Requirement already satisfied: urllib3<1.27,>=1.21.1 in /usr/local/lib/python3.9/dist-packages (from requests->azure-storage-common~=2.1->azure-storage-queue==2.1.0) (1.26.15)\n",
            "Requirement already satisfied: certifi>=2017.4.17 in /usr/local/lib/python3.9/dist-packages (from requests->azure-storage-common~=2.1->azure-storage-queue==2.1.0) (2022.12.7)\n",
            "Requirement already satisfied: idna<4,>=2.5 in /usr/local/lib/python3.9/dist-packages (from requests->azure-storage-common~=2.1->azure-storage-queue==2.1.0) (3.4)\n",
            "Requirement already satisfied: charset-normalizer~=2.0.0 in /usr/local/lib/python3.9/dist-packages (from requests->azure-storage-common~=2.1->azure-storage-queue==2.1.0) (2.0.12)\n",
            "Requirement already satisfied: pycparser in /usr/local/lib/python3.9/dist-packages (from cffi>=1.12->cryptography->azure-storage-common~=2.1->azure-storage-queue==2.1.0) (2.21)\n",
            "Installing collected packages: azure-common, azure-storage-common, azure-storage-queue\n",
            "Successfully installed azure-common-1.1.28 azure-storage-common-2.1.0 azure-storage-queue-2.1.0\n"
          ]
        }
      ],
      "source": [
        "!pip install azure-storage-queue==2.1.0"
      ]
    },
    {
      "cell_type": "code",
      "source": [
        "from azure.storage.queue import QueueService,QueueMessageFormat"
      ],
      "metadata": {
        "id": "g3AU2m8nXlkj"
      },
      "execution_count": null,
      "outputs": []
    },
    {
      "cell_type": "code",
      "source": [
        "connect_str='DefaultEndpointsProtocol=https;AccountName=labuser63storage;AccountKey=0000000000000000000000000000000000000000000000000000000000000000000000000;EndpointSuffix=core.windows.net'\n",
        "\n",
        "queue_name = 'queue-myqueue'\n",
        "queue_service = QueueService(connection_string=connect_str)\n",
        "\n",
        "queue_service.create_queue(queue_name)"
      ],
      "metadata": {
        "colab": {
          "base_uri": "https://localhost:8080/"
        },
        "id": "fT_j39LcXsoM",
        "outputId": "e89e366e-bc63-497d-8fa9-8751da0911e6"
      },
      "execution_count": null,
      "outputs": [
        {
          "output_type": "execute_result",
          "data": {
            "text/plain": [
              "True"
            ]
          },
          "metadata": {},
          "execution_count": 6
        }
      ]
    },
    {
      "cell_type": "code",
      "source": [
        "queue_service.encode_function=QueueMessageFormat.binary_base64encode\n",
        "queue_service.decode_function=QueueMessageFormat.binary_base64decode"
      ],
      "metadata": {
        "id": "1B6KqIidcQ4z"
      },
      "execution_count": 7,
      "outputs": []
    },
    {
      "cell_type": "code",
      "source": [
        "import base64\n",
        "message = 'hello world!'\n",
        "print('Adding message:'+ message)\n",
        "\n",
        "message = base64.b64encode(message.encode('utf-8'))\n",
        "queue_service.put_message(queue_name, message)"
      ],
      "metadata": {
        "colab": {
          "base_uri": "https://localhost:8080/"
        },
        "id": "yBF9pLo8gtqb",
        "outputId": "f511dfa4-50a5-4795-9bb0-6783f809697f"
      },
      "execution_count": 11,
      "outputs": [
        {
          "output_type": "stream",
          "name": "stdout",
          "text": [
            "Adding message:hello world!\n"
          ]
        },
        {
          "output_type": "execute_result",
          "data": {
            "text/plain": [
              "<azure.storage.queue.models.QueueMessage at 0x7f02c660d6a0>"
            ]
          },
          "metadata": {},
          "execution_count": 11
        }
      ]
    },
    {
      "cell_type": "code",
      "source": [
        "messages =queue_service.peek_messages(queue_name)\n",
        "\n",
        "for peeked_message in messages:\n",
        "  message = base64.b64decode(peeked_message.content)\n",
        "  print('peeked message:' + message.decode('utf-8'))"
      ],
      "metadata": {
        "colab": {
          "base_uri": "https://localhost:8080/"
        },
        "id": "N9dkkOgbhhcE",
        "outputId": "47fc6450-d19e-4a4a-9d55-3972134dc481"
      },
      "execution_count": 13,
      "outputs": [
        {
          "output_type": "stream",
          "name": "stdout",
          "text": [
            "peeked message:hello world!\n"
          ]
        }
      ]
    },
    {
      "cell_type": "code",
      "source": [
        "messages = queue_service.get_messages(queue_name)\n",
        "\n",
        "for msg in messages:\n",
        "  message = base64.b64decode(msg.content)\n",
        "  print('got message: ' + message.decode('utf-8'))"
      ],
      "metadata": {
        "colab": {
          "base_uri": "https://localhost:8080/"
        },
        "id": "hf6zzSVEimv_",
        "outputId": "1a2c417b-23cd-41ab-cd62-611df406ef75"
      },
      "execution_count": 15,
      "outputs": [
        {
          "output_type": "stream",
          "name": "stdout",
          "text": [
            "got message: hello world!\n"
          ]
        }
      ]
    },
    {
      "cell_type": "code",
      "source": [
        "queue_service.delete_queue(queue_name)"
      ],
      "metadata": {
        "colab": {
          "base_uri": "https://localhost:8080/"
        },
        "id": "O9gGFXE5lKpo",
        "outputId": "e1bc0cd9-158b-4915-cc5f-070bef89d8eb"
      },
      "execution_count": 16,
      "outputs": [
        {
          "output_type": "execute_result",
          "data": {
            "text/plain": [
              "True"
            ]
          },
          "metadata": {},
          "execution_count": 16
        }
      ]
    }
  ]
}