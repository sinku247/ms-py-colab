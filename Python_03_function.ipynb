{
  "nbformat": 4,
  "nbformat_minor": 0,
  "metadata": {
    "colab": {
      "provenance": [],
      "authorship_tag": "ABX9TyNNqieLFbOPuI1esOc97ivk",
      "include_colab_link": true
    },
    "kernelspec": {
      "name": "python3",
      "display_name": "Python 3"
    },
    "language_info": {
      "name": "python"
    }
  },
  "cells": [
    {
      "cell_type": "markdown",
      "metadata": {
        "id": "view-in-github",
        "colab_type": "text"
      },
      "source": [
        "<a href=\"https://colab.research.google.com/github/sinku247/ms-py-colab/blob/main/Python_03_function.ipynb\" target=\"_parent\"><img src=\"https://colab.research.google.com/assets/colab-badge.svg\" alt=\"Open In Colab\"/></a>"
      ]
    },
    {
      "cell_type": "code",
      "execution_count": null,
      "metadata": {
        "colab": {
          "base_uri": "https://localhost:8080/"
        },
        "id": "lmZyZ_KeXBV3",
        "outputId": "f7e78410-b106-4633-89ae-664696a13b21"
      },
      "outputs": [
        {
          "output_type": "stream",
          "name": "stdout",
          "text": [
            "<function times at 0x7f70d5fad550>\n"
          ]
        }
      ],
      "source": [
        "#function\n",
        "def times(a,b):\n",
        "  result = a*b\n",
        "  return result\n",
        "print(times)"
      ]
    },
    {
      "cell_type": "code",
      "source": [
        "print(times(10,20))"
      ],
      "metadata": {
        "colab": {
          "base_uri": "https://localhost:8080/"
        },
        "id": "KROW7RPOYGSM",
        "outputId": "a3f7f287-0ef4-436d-9458-04d499d22775"
      },
      "execution_count": null,
      "outputs": [
        {
          "output_type": "stream",
          "name": "stdout",
          "text": [
            "200\n"
          ]
        }
      ]
    },
    {
      "cell_type": "code",
      "source": [
        "print(id(times))"
      ],
      "metadata": {
        "colab": {
          "base_uri": "https://localhost:8080/"
        },
        "id": "uKKEcSfFYK5I",
        "outputId": "25730aac-22a2-4c77-9536-af929bfff256"
      },
      "execution_count": null,
      "outputs": [
        {
          "output_type": "stream",
          "name": "stdout",
          "text": [
            "140123003174768\n"
          ]
        }
      ]
    },
    {
      "cell_type": "code",
      "source": [
        "globals()"
      ],
      "metadata": {
        "colab": {
          "base_uri": "https://localhost:8080/"
        },
        "id": "1_qF0BIUYeWi",
        "outputId": "e9d0e42d-4bbd-4637-f39a-0812b95f6960"
      },
      "execution_count": null,
      "outputs": [
        {
          "output_type": "execute_result",
          "data": {
            "text/plain": [
              "{'__name__': '__main__',\n",
              " '__doc__': 'Automatically created module for IPython interactive environment',\n",
              " '__package__': None,\n",
              " '__loader__': None,\n",
              " '__spec__': None,\n",
              " '__builtin__': <module 'builtins' (built-in)>,\n",
              " '__builtins__': <module 'builtins' (built-in)>,\n",
              " '_ih': ['',\n",
              "  '#function\\ndef times(a,b):\\n  result = a*b\\n  return result',\n",
              "  '#function\\ndef times(a,b):\\n  result = a*b\\n  return result',\n",
              "  'print(times(10,20))',\n",
              "  'print(id(times))',\n",
              "  '#function\\ndef times(a,b):\\n  result = a*b\\n  return result\\n  print(times)',\n",
              "  '#function\\ndef times(a,b):\\n  result = a*b\\n  return result\\n  print(times)',\n",
              "  '#function\\ndef times(a,b):\\n  result = a*b\\n  return result\\nprint(times)',\n",
              "  'globals',\n",
              "  'globals()'],\n",
              " '_oh': {8: <function globals()>},\n",
              " '_dh': ['/content'],\n",
              " 'In': ['',\n",
              "  '#function\\ndef times(a,b):\\n  result = a*b\\n  return result',\n",
              "  '#function\\ndef times(a,b):\\n  result = a*b\\n  return result',\n",
              "  'print(times(10,20))',\n",
              "  'print(id(times))',\n",
              "  '#function\\ndef times(a,b):\\n  result = a*b\\n  return result\\n  print(times)',\n",
              "  '#function\\ndef times(a,b):\\n  result = a*b\\n  return result\\n  print(times)',\n",
              "  '#function\\ndef times(a,b):\\n  result = a*b\\n  return result\\nprint(times)',\n",
              "  'globals',\n",
              "  'globals()'],\n",
              " 'Out': {8: <function globals()>},\n",
              " 'get_ipython': <bound method InteractiveShell.get_ipython of <google.colab._shell.Shell object at 0x7f7108cddf10>>,\n",
              " 'exit': <IPython.core.autocall.ZMQExitAutocall at 0x7f71088d83a0>,\n",
              " 'quit': <IPython.core.autocall.ZMQExitAutocall at 0x7f71088d83a0>,\n",
              " '_': <function globals()>,\n",
              " '__': '',\n",
              " '___': '',\n",
              " '_i': 'globals',\n",
              " '_ii': '#function\\ndef times(a,b):\\n  result = a*b\\n  return result\\nprint(times)',\n",
              " '_iii': '#function\\ndef times(a,b):\\n  result = a*b\\n  return result\\n  print(times)',\n",
              " '_i1': '#function\\ndef times(a,b):\\n  result = a*b\\n  return result',\n",
              " 'times': <function __main__.times(a, b)>,\n",
              " '_i2': '#function\\ndef times(a,b):\\n  result = a*b\\n  return result',\n",
              " '_i3': 'print(times(10,20))',\n",
              " '_i4': 'print(id(times))',\n",
              " '_i5': '#function\\ndef times(a,b):\\n  result = a*b\\n  return result\\n  print(times)',\n",
              " '_i6': '#function\\ndef times(a,b):\\n  result = a*b\\n  return result\\n  print(times)',\n",
              " '_i7': '#function\\ndef times(a,b):\\n  result = a*b\\n  return result\\nprint(times)',\n",
              " '_i8': 'globals',\n",
              " '_8': <function globals()>,\n",
              " '_i9': 'globals()'}"
            ]
          },
          "metadata": {},
          "execution_count": 9
        }
      ]
    },
    {
      "cell_type": "code",
      "source": [
        "mytimes=times\n",
        "print(mytimes(10,20))"
      ],
      "metadata": {
        "colab": {
          "base_uri": "https://localhost:8080/"
        },
        "id": "2hq_z-IUYkMU",
        "outputId": "b65adeec-c4ed-4dd3-d557-65490859cf6c"
      },
      "execution_count": null,
      "outputs": [
        {
          "output_type": "stream",
          "name": "stdout",
          "text": [
            "200\n"
          ]
        }
      ]
    },
    {
      "cell_type": "code",
      "source": [
        "print((id(mytimes)))"
      ],
      "metadata": {
        "colab": {
          "base_uri": "https://localhost:8080/"
        },
        "id": "czECJQj4bKEZ",
        "outputId": "d830e023-59fc-496f-818c-7790248e1b3b"
      },
      "execution_count": null,
      "outputs": [
        {
          "output_type": "stream",
          "name": "stdout",
          "text": [
            "140122603050320\n"
          ]
        }
      ]
    },
    {
      "cell_type": "code",
      "source": [
        "a=10\n",
        "b=20\n",
        "def sum1(x,y):\n",
        "  return x+y"
      ],
      "metadata": {
        "id": "J9eShbNCbNxS"
      },
      "execution_count": null,
      "outputs": []
    },
    {
      "cell_type": "code",
      "source": [
        "print(sum1(a,b))"
      ],
      "metadata": {
        "colab": {
          "base_uri": "https://localhost:8080/"
        },
        "id": "1zAjO1UxbUsy",
        "outputId": "586de4f7-4e96-47d4-dc59-0ac81ce5ecd0"
      },
      "execution_count": null,
      "outputs": [
        {
          "output_type": "stream",
          "name": "stdout",
          "text": [
            "30\n"
          ]
        }
      ]
    },
    {
      "cell_type": "code",
      "source": [
        "#변수의 범위\n",
        "g=10\n",
        "x=20\n",
        "def sum2(x,y):\n",
        "  global g\n",
        "  g = g+1\n",
        "  return x,y\n",
        "\n",
        "print(sum2(x,20))\n",
        "print(g)"
      ],
      "metadata": {
        "colab": {
          "base_uri": "https://localhost:8080/"
        },
        "id": "_kVPDqnDbWkP",
        "outputId": "d915bd01-fd0f-4043-d29a-a6ffb47b88ba"
      },
      "execution_count": null,
      "outputs": [
        {
          "output_type": "stream",
          "name": "stdout",
          "text": [
            "(20, 20)\n",
            "11\n"
          ]
        }
      ]
    },
    {
      "cell_type": "code",
      "source": [
        "# 함수의 인자 (parameter)\n",
        "\n",
        "def times(a=10, b=20):\n",
        "  return a*b\n",
        "\n",
        "print(times(100,200))\n",
        "print(times(100))\n",
        "print(times())"
      ],
      "metadata": {
        "colab": {
          "base_uri": "https://localhost:8080/"
        },
        "id": "H2T2_waQce6X",
        "outputId": "8e1e3570-a02d-4947-bae3-7b8b3f32c91a"
      },
      "execution_count": null,
      "outputs": [
        {
          "output_type": "stream",
          "name": "stdout",
          "text": [
            "20000\n",
            "2000\n",
            "200\n"
          ]
        }
      ]
    },
    {
      "cell_type": "code",
      "source": [
        "def connectURL(protocol='https', server='naver.com', port='80'):\n",
        "  address = protocol + '://' + server + ':' + port\n",
        "  return address\n",
        "\n",
        "print(connectURL(port='8080'))"
      ],
      "metadata": {
        "colab": {
          "base_uri": "https://localhost:8080/"
        },
        "id": "xtwMe7NNdqJP",
        "outputId": "8096d47d-3e6b-4c6e-daf4-7eb01a6c560d"
      },
      "execution_count": null,
      "outputs": [
        {
          "output_type": "stream",
          "name": "stdout",
          "text": [
            "https://naver.com:8080\n"
          ]
        }
      ]
    },
    {
      "cell_type": "code",
      "source": [
        "#가변인자 함수\n",
        "def test(*args):\n",
        "  print(type(args))\n",
        "  print(args)\n",
        "\n",
        "test(1,2,3,4,5)\n",
        "test(1,2,3)\n",
        "\n"
      ],
      "metadata": {
        "colab": {
          "base_uri": "https://localhost:8080/"
        },
        "id": "mO1Pv_0BjCEm",
        "outputId": "3954fe61-21d3-4608-c700-a472716e9647"
      },
      "execution_count": null,
      "outputs": [
        {
          "output_type": "stream",
          "name": "stdout",
          "text": [
            "<class 'tuple'>\n",
            "(1, 2, 3, 4, 5)\n",
            "<class 'tuple'>\n",
            "(1, 2, 3)\n"
          ]
        }
      ]
    }
  ]
}