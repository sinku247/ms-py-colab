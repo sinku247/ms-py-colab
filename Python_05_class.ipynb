{
  "nbformat": 4,
  "nbformat_minor": 0,
  "metadata": {
    "colab": {
      "provenance": [],
      "authorship_tag": "ABX9TyMiPQng8Xj1vUSYFgscYClz",
      "include_colab_link": true
    },
    "kernelspec": {
      "name": "python3",
      "display_name": "Python 3"
    },
    "language_info": {
      "name": "python"
    }
  },
  "cells": [
    {
      "cell_type": "markdown",
      "metadata": {
        "id": "view-in-github",
        "colab_type": "text"
      },
      "source": [
        "<a href=\"https://colab.research.google.com/github/sinku247/ms-py-colab/blob/main/Python_05_class.ipynb\" target=\"_parent\"><img src=\"https://colab.research.google.com/assets/colab-badge.svg\" alt=\"Open In Colab\"/></a>"
      ]
    },
    {
      "cell_type": "code",
      "execution_count": 3,
      "metadata": {
        "id": "zwVIj0GVCg-R"
      },
      "outputs": [],
      "source": [
        "#Class의 사용법\n",
        "\n",
        "class MyClass:\n",
        "  pass"
      ]
    },
    {
      "cell_type": "code",
      "source": [
        "print(id(MyClass))"
      ],
      "metadata": {
        "colab": {
          "base_uri": "https://localhost:8080/"
        },
        "id": "Kb6WNvUIHNLI",
        "outputId": "baa76b66-65c1-4abe-8a15-27f4fd33a20e"
      },
      "execution_count": 4,
      "outputs": [
        {
          "output_type": "stream",
          "name": "stdout",
          "text": [
            "58166784\n"
          ]
        }
      ]
    },
    {
      "cell_type": "code",
      "source": [
        "class Person:\n",
        "  name='Default Name'\n",
        "\n",
        "  def Print(self):\n",
        "    print('my name is {0}'.format(self.Name))"
      ],
      "metadata": {
        "id": "s27qa3eXHR6W"
      },
      "execution_count": 14,
      "outputs": []
    },
    {
      "cell_type": "code",
      "source": [
        "p1 = Person()\n"
      ],
      "metadata": {
        "id": "DgdgMlU3MOZg"
      },
      "execution_count": 15,
      "outputs": []
    },
    {
      "cell_type": "code",
      "source": [
        "p1.Name = '윤하'\n",
        "p1.Print()"
      ],
      "metadata": {
        "colab": {
          "base_uri": "https://localhost:8080/"
        },
        "id": "WnL32nYfMX3T",
        "outputId": "9161761e-7156-460c-e30b-897744a90888"
      },
      "execution_count": 17,
      "outputs": [
        {
          "output_type": "stream",
          "name": "stdout",
          "text": [
            "my name is 윤하\n"
          ]
        }
      ]
    },
    {
      "cell_type": "code",
      "source": [
        "p1 = Person()\n",
        "p2 = Person()"
      ],
      "metadata": {
        "id": "TLbanvR2NBEQ"
      },
      "execution_count": 18,
      "outputs": []
    },
    {
      "cell_type": "code",
      "source": [
        "p1.Name = \"박보검\"\n",
        "p2.Name = \"신민아\"\n",
        "p1.Print()\n",
        "p2.Print()"
      ],
      "metadata": {
        "colab": {
          "base_uri": "https://localhost:8080/"
        },
        "id": "m7AcP-0DNMmK",
        "outputId": "5891808e-b785-48bc-c1c6-a62cc1c64645"
      },
      "execution_count": 20,
      "outputs": [
        {
          "output_type": "stream",
          "name": "stdout",
          "text": [
            "my name is 박보검\n",
            "my name is 신민아\n"
          ]
        }
      ]
    },
    {
      "cell_type": "code",
      "source": [
        "Person.Title = 'New Title'\n",
        "\n",
        "print(p1.Title)\n",
        "print(p2.Title)"
      ],
      "metadata": {
        "colab": {
          "base_uri": "https://localhost:8080/"
        },
        "id": "BjK1rHbLN5cU",
        "outputId": "f7767ac7-c19b-4349-e3fb-5aa04ce4d3cf"
      },
      "execution_count": 21,
      "outputs": [
        {
          "output_type": "stream",
          "name": "stdout",
          "text": [
            "New Title\n",
            "New Title\n"
          ]
        }
      ]
    },
    {
      "cell_type": "code",
      "source": [
        "p1.Age = 30"
      ],
      "metadata": {
        "id": "kP6G9_VBOcpN"
      },
      "execution_count": 22,
      "outputs": []
    },
    {
      "cell_type": "code",
      "source": [
        "print(p1.Age)\n",
        "print(p2.Age)"
      ],
      "metadata": {
        "colab": {
          "base_uri": "https://localhost:8080/",
          "height": 209
        },
        "id": "kpoG1DGMOlDa",
        "outputId": "b0427556-b1e8-49ed-c016-3ca2d52f5e8c"
      },
      "execution_count": 23,
      "outputs": [
        {
          "output_type": "stream",
          "name": "stdout",
          "text": [
            "30\n"
          ]
        },
        {
          "output_type": "error",
          "ename": "AttributeError",
          "evalue": "ignored",
          "traceback": [
            "\u001b[0;31m---------------------------------------------------------------------------\u001b[0m",
            "\u001b[0;31mAttributeError\u001b[0m                            Traceback (most recent call last)",
            "\u001b[0;32m<ipython-input-23-47cd04e06f4b>\u001b[0m in \u001b[0;36m<cell line: 2>\u001b[0;34m()\u001b[0m\n\u001b[1;32m      1\u001b[0m \u001b[0mprint\u001b[0m\u001b[0;34m(\u001b[0m\u001b[0mp1\u001b[0m\u001b[0;34m.\u001b[0m\u001b[0mAge\u001b[0m\u001b[0;34m)\u001b[0m\u001b[0;34m\u001b[0m\u001b[0;34m\u001b[0m\u001b[0m\n\u001b[0;32m----> 2\u001b[0;31m \u001b[0mprint\u001b[0m\u001b[0;34m(\u001b[0m\u001b[0mp2\u001b[0m\u001b[0;34m.\u001b[0m\u001b[0mAge\u001b[0m\u001b[0;34m)\u001b[0m\u001b[0;34m\u001b[0m\u001b[0;34m\u001b[0m\u001b[0m\n\u001b[0m",
            "\u001b[0;31mAttributeError\u001b[0m: 'Person' object has no attribute 'Age'"
          ]
        }
      ]
    },
    {
      "cell_type": "code",
      "source": [
        "#Class의 상속\n",
        "class Person:\n",
        "  pass"
      ],
      "metadata": {
        "id": "7XiNDtlbPUa8"
      },
      "execution_count": 24,
      "outputs": []
    },
    {
      "cell_type": "code",
      "source": [
        "class Student(Person):\n",
        "  pass"
      ],
      "metadata": {
        "id": "WsNcm5PpPZoC"
      },
      "execution_count": 25,
      "outputs": []
    },
    {
      "cell_type": "code",
      "source": [
        "class Bird:\n",
        "  pass"
      ],
      "metadata": {
        "id": "iuK5blMxPunq"
      },
      "execution_count": 26,
      "outputs": []
    },
    {
      "cell_type": "code",
      "source": [
        "p = Person()\n",
        "s = Student()"
      ],
      "metadata": {
        "id": "rg1p3ZH2QNwK"
      },
      "execution_count": 27,
      "outputs": []
    },
    {
      "cell_type": "code",
      "source": [
        "#isinstance\n",
        "isinstance(p, Person)\n",
        "isinstance(s, Person)\n",
        "isinstance(s, object)\n",
        "isinstance(int,object)"
      ],
      "metadata": {
        "colab": {
          "base_uri": "https://localhost:8080/"
        },
        "id": "isAJxQr3QZmY",
        "outputId": "e67d8084-6dfe-4ebb-99c9-b3fe7a6d6015"
      },
      "execution_count": 30,
      "outputs": [
        {
          "output_type": "execute_result",
          "data": {
            "text/plain": [
              "True"
            ]
          },
          "metadata": {},
          "execution_count": 30
        }
      ]
    },
    {
      "cell_type": "code",
      "source": [
        "#생성자 소멸자 메소드\n",
        "class MyClass:\n",
        "  def init (self):          #생성자자\n",
        "    print('class is created')\n",
        "  "
      ],
      "metadata": {
        "id": "WTlVQyJRRcQy"
      },
      "execution_count": 33,
      "outputs": []
    },
    {
      "cell_type": "code",
      "source": [
        "my = MyClass()\n",
        "del my\n"
      ],
      "metadata": {
        "id": "bnJ25K7CSFvO"
      },
      "execution_count": 46,
      "outputs": []
    },
    {
      "cell_type": "code",
      "source": [
        "class Person:\n",
        "  Name = ''\n",
        "  Age = 0\n",
        "  def __init__(self, name, age):\n",
        "    self.Name = name\n",
        "    self.Age = age\n",
        "  def __del__(self):\n",
        "    print('{0} 잘살다 갑니다.'.format(self.Name))\n",
        "\n",
        "  def PrintName(self):\n",
        "    print(self.Name)\n",
        "    print(self.Age)"
      ],
      "metadata": {
        "id": "5HhK7YPdSf2x"
      },
      "execution_count": 49,
      "outputs": []
    },
    {
      "cell_type": "code",
      "source": [
        "p = Person('황비홍',40)\n",
        "p.PrintName()\n",
        "del p"
      ],
      "metadata": {
        "colab": {
          "base_uri": "https://localhost:8080/"
        },
        "id": "U7tkJ2XjUGWT",
        "outputId": "935006c0-7823-4455-e181-8e4a851f9617"
      },
      "execution_count": 50,
      "outputs": [
        {
          "output_type": "stream",
          "name": "stdout",
          "text": [
            "황비홍\n",
            "40\n",
            "황비홍 잘살다 갑니다.\n"
          ]
        }
      ]
    },
    {
      "cell_type": "code",
      "source": [
        "# 정적(Static) 메소드 \n",
        "class CounterManager:\n",
        "  InsCount = 0\n",
        "\n",
        "  def __init__(self):\n",
        "    CounterManager.InsCount += 1\n",
        "  def PrintInstanceCount():           #정적 메소드로 전환\n",
        "    print('Instance Count:', CounterManager.InsCount)\n",
        "  \n",
        "  StaticCount = staticmethod(PrintInstanceCount)"
      ],
      "metadata": {
        "id": "LtIq5w5tZLB0"
      },
      "execution_count": 68,
      "outputs": []
    },
    {
      "cell_type": "code",
      "source": [
        "a = CounterManager()\n",
        "b = CounterManager()\n",
        "C = CounterManager()"
      ],
      "metadata": {
        "id": "7HbvWWDMZs5a"
      },
      "execution_count": 69,
      "outputs": []
    },
    {
      "cell_type": "code",
      "source": [
        "CounterManager.PrintInstanceCount() "
      ],
      "metadata": {
        "colab": {
          "base_uri": "https://localhost:8080/"
        },
        "id": "8svrQEVLZ1p7",
        "outputId": "61fc917e-6cef-440a-ab82-737dc9d0a6c9"
      },
      "execution_count": 70,
      "outputs": [
        {
          "output_type": "stream",
          "name": "stdout",
          "text": [
            "Instance Count: 3\n"
          ]
        }
      ]
    },
    {
      "cell_type": "code",
      "source": [
        "p = CounterManager()\n",
        "p.StaticCount()"
      ],
      "metadata": {
        "colab": {
          "base_uri": "https://localhost:8080/"
        },
        "id": "Gx1odQNsbDBf",
        "outputId": "fa862144-d3ec-44fe-80e1-664e434e8364"
      },
      "execution_count": 71,
      "outputs": [
        {
          "output_type": "stream",
          "name": "stdout",
          "text": [
            "Instance Count: 4\n"
          ]
        }
      ]
    },
    {
      "cell_type": "code",
      "source": [
        "#상속의 심화\n",
        "class Person:\n",
        "  def __init__(self, name, phone):\n",
        "    self.Name = name\n",
        "    self.Phone = phone\n",
        "\n",
        "  def PrintInfo(self):\n",
        "    print(\"Info(Name: {0}, Phone {1}\".format(self.Name, self.Phone))\n",
        "\n",
        "  def PrintPersonData(self):\n",
        "    print(\"Info(Name: {0}, Phone {1}\".format(self.Name, self.Phone))"
      ],
      "metadata": {
        "id": "ZHJwdHwGbUTx"
      },
      "execution_count": 74,
      "outputs": []
    },
    {
      "cell_type": "code",
      "source": [
        "class Student(Person):\n",
        "  def __init__(self, name, phone, subject, studentID):\n",
        "    self.Name = name\n",
        "    self.Phone = phone\n",
        "    self.Subject = subject\n",
        "    self.StudentID = studentID"
      ],
      "metadata": {
        "id": "El2TATGVcko3"
      },
      "execution_count": 81,
      "outputs": []
    },
    {
      "cell_type": "code",
      "source": [
        "p = Person('박보검','010-1111-1111')\n",
        "s = Student('민아','010-2222-2222','학생회장','0001')"
      ],
      "metadata": {
        "id": "LSN92DpqctUu"
      },
      "execution_count": 84,
      "outputs": []
    },
    {
      "cell_type": "code",
      "source": [
        "print(p.__dict__)\n",
        "print(s.__dict__)"
      ],
      "metadata": {
        "colab": {
          "base_uri": "https://localhost:8080/"
        },
        "id": "Ut51SGwudRT3",
        "outputId": "be36031a-81c5-408a-9458-b8f66cb4cbab"
      },
      "execution_count": 85,
      "outputs": [
        {
          "output_type": "stream",
          "name": "stdout",
          "text": [
            "{'Name': '박보검', 'Phone': '010-1111-1111'}\n",
            "{'Name': '민아', 'Phone': '010-2222-2222', 'Subject': '학생회장', 'StudentID': '0001'}\n"
          ]
        }
      ]
    },
    {
      "cell_type": "code",
      "source": [
        "s.PrintInfo()"
      ],
      "metadata": {
        "colab": {
          "base_uri": "https://localhost:8080/"
        },
        "id": "N8cyEQ6Nd4mI",
        "outputId": "b31d1a94-de65-4640-fc0a-1b8e898a5c54"
      },
      "execution_count": 87,
      "outputs": [
        {
          "output_type": "stream",
          "name": "stdout",
          "text": [
            "Info(Name: 민아, Phone 010-2222-2222\n"
          ]
        }
      ]
    },
    {
      "cell_type": "code",
      "source": [
        "#상속관계를 확인\n",
        "issubclass(Student,Person)"
      ],
      "metadata": {
        "colab": {
          "base_uri": "https://localhost:8080/"
        },
        "id": "Fx7gsXtse3U3",
        "outputId": "a8f39602-e7b6-490a-d3a9-b1a68e01f751"
      },
      "execution_count": 88,
      "outputs": [
        {
          "output_type": "execute_result",
          "data": {
            "text/plain": [
              "True"
            ]
          },
          "metadata": {},
          "execution_count": 88
        }
      ]
    },
    {
      "cell_type": "code",
      "source": [
        "issubclass(Person,Student)"
      ],
      "metadata": {
        "colab": {
          "base_uri": "https://localhost:8080/"
        },
        "id": "W56HjdyYe-vO",
        "outputId": "5352573a-5f60-4242-9191-dceb5d85bfdf"
      },
      "execution_count": 89,
      "outputs": [
        {
          "output_type": "execute_result",
          "data": {
            "text/plain": [
              "False"
            ]
          },
          "metadata": {},
          "execution_count": 89
        }
      ]
    },
    {
      "cell_type": "code",
      "source": [
        "class Student(Person):\n",
        "  def __init__(self, name, phone, subject, studentID):\n",
        "    self.Name = name\n",
        "    self.Phone = phone\n",
        "    self.Subject = subject\n",
        "    self.StudentID = studentID\n",
        "\n",
        "    Person.__init__(self,name,phone)\n",
        "\n",
        "  def PrintStudentData(self):\n",
        "    print('Student(Name: {0}, StudentID: {1})'.format(self.Name, self.StudentID))\n",
        "\n",
        "  def PrintPersonData(self):\n",
        "    print('{0}님의 전공은 {1}입니다.'.format(self.Name,self.Subject))"
      ],
      "metadata": {
        "id": "eSuqyEPFfEE0"
      },
      "execution_count": 103,
      "outputs": []
    },
    {
      "cell_type": "code",
      "source": [
        "s = Student('민아','010-2222-2222','Computer','0001')\n",
        "s.PrintStudentData()\n",
        "s.PrintPersonData()"
      ],
      "metadata": {
        "colab": {
          "base_uri": "https://localhost:8080/"
        },
        "id": "GqigIcJ-feM5",
        "outputId": "104a9801-ec93-4a9c-b652-c17041af4c12"
      },
      "execution_count": 104,
      "outputs": [
        {
          "output_type": "stream",
          "name": "stdout",
          "text": [
            "Student(Name: 민아, StudentID: 0001)\n",
            "민아님의 전공은 Computer입니다.\n"
          ]
        }
      ]
    },
    {
      "cell_type": "code",
      "source": [
        "#다중상속\n",
        "\n",
        "class Tiger:\n",
        "  def Jump(self):\n",
        "    print('호랑이 점프')\n",
        "    "
      ],
      "metadata": {
        "id": "weCnZL1NywPB"
      },
      "execution_count": 105,
      "outputs": []
    },
    {
      "cell_type": "code",
      "source": [
        "class Lion:\n",
        "  def Bite(self):\n",
        "    print('사자의 물기')"
      ],
      "metadata": {
        "id": "7YaaJo8ezROw"
      },
      "execution_count": 106,
      "outputs": []
    },
    {
      "cell_type": "code",
      "source": [
        "class Liger(Tiger,Lion):\n",
        "  def Play(self):\n",
        "    print('라이거의 놀기')"
      ],
      "metadata": {
        "id": "Vfvl6weRzq4q"
      },
      "execution_count": 111,
      "outputs": []
    },
    {
      "cell_type": "code",
      "source": [
        "l = Liger()\n",
        "print(l.Jump())\n",
        "print(l.Bite())\n",
        "print(l.Play())"
      ],
      "metadata": {
        "colab": {
          "base_uri": "https://localhost:8080/"
        },
        "id": "WNl205uJ0LHA",
        "outputId": "f638f35b-9515-41bb-a510-977b8c4825b1"
      },
      "execution_count": 114,
      "outputs": [
        {
          "output_type": "stream",
          "name": "stdout",
          "text": [
            "호랑이 점프\n",
            "None\n",
            "사자의 물기\n",
            "None\n",
            "라이거의 놀기\n",
            "None\n"
          ]
        }
      ]
    }
  ]
}