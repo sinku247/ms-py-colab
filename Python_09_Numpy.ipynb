{
  "nbformat": 4,
  "nbformat_minor": 0,
  "metadata": {
    "colab": {
      "provenance": [],
      "authorship_tag": "ABX9TyO79bFSwz3GYwC5GBSVl7/R",
      "include_colab_link": true
    },
    "kernelspec": {
      "name": "python3",
      "display_name": "Python 3"
    },
    "language_info": {
      "name": "python"
    }
  },
  "cells": [
    {
      "cell_type": "markdown",
      "metadata": {
        "id": "view-in-github",
        "colab_type": "text"
      },
      "source": [
        "<a href=\"https://colab.research.google.com/github/sinku247/ms-py-colab/blob/main/Python_09_Numpy.ipynb\" target=\"_parent\"><img src=\"https://colab.research.google.com/assets/colab-badge.svg\" alt=\"Open In Colab\"/></a>"
      ]
    },
    {
      "cell_type": "code",
      "execution_count": null,
      "metadata": {
        "id": "yDaLFFhtiogv"
      },
      "outputs": [],
      "source": [
        "#Numpy\n",
        "\n",
        "#C언어로 개발된 파이썬에서 과학적 계산을 위한 핵심 라이브러리. 다차원 배열 객체와 배열과 함께 작동하는 도구들을 제공한다. \n",
        "#하지만 고수준의 데이터 분석기능을 제공하지는 않기 때문에 Numpy 배열과 함께 Pandas와 같은 도구를 함께 사용한다. "
      ]
    },
    {
      "cell_type": "code",
      "source": [
        "import numpy as np\n"
      ],
      "metadata": {
        "id": "AFc7ZeFKi5Qc"
      },
      "execution_count": 1,
      "outputs": []
    },
    {
      "cell_type": "code",
      "source": [
        "arr = np.array([1,2,3,4,])\n",
        "print(arr)\n",
        "print(type(arr))"
      ],
      "metadata": {
        "colab": {
          "base_uri": "https://localhost:8080/"
        },
        "id": "xJzcBEf8jZPo",
        "outputId": "3f6ba43e-16d8-4fec-9ba3-c167c08323ed"
      },
      "execution_count": 2,
      "outputs": [
        {
          "output_type": "stream",
          "name": "stdout",
          "text": [
            "[1 2 3 4]\n",
            "<class 'numpy.ndarray'>\n"
          ]
        }
      ]
    },
    {
      "cell_type": "code",
      "source": [
        "#zeros, ones, empty를 사용해 배열을 생성한다.\n",
        "car = np. zeros((3,3))\n",
        "print(car)"
      ],
      "metadata": {
        "colab": {
          "base_uri": "https://localhost:8080/"
        },
        "id": "S9x0muRllXON",
        "outputId": "d30f9c35-df2f-4a8b-a410-74400565518f"
      },
      "execution_count": 7,
      "outputs": [
        {
          "output_type": "stream",
          "name": "stdout",
          "text": [
            "[[0. 0. 0.]\n",
            " [0. 0. 0.]\n",
            " [0. 0. 0.]]\n"
          ]
        }
      ]
    },
    {
      "cell_type": "code",
      "source": [
        "np.ones((2,2))"
      ],
      "metadata": {
        "colab": {
          "base_uri": "https://localhost:8080/"
        },
        "id": "TVs-oEhMmirF",
        "outputId": "ff117e36-7676-4142-cc69-3ff944342d8d"
      },
      "execution_count": 8,
      "outputs": [
        {
          "output_type": "execute_result",
          "data": {
            "text/plain": [
              "array([[1., 1.],\n",
              "       [1., 1.]])"
            ]
          },
          "metadata": {},
          "execution_count": 8
        }
      ]
    },
    {
      "cell_type": "code",
      "source": [
        "np.empty((4,4))"
      ],
      "metadata": {
        "colab": {
          "base_uri": "https://localhost:8080/"
        },
        "id": "2_wq5fXzmnfp",
        "outputId": "056e809d-580b-4f18-e376-7c446230ec7a"
      },
      "execution_count": 9,
      "outputs": [
        {
          "output_type": "execute_result",
          "data": {
            "text/plain": [
              "array([[1.98649567e-316, 0.00000000e+000, 2.41907520e-312,\n",
              "        2.37663529e-312],\n",
              "       [2.22809558e-312, 2.46151512e-312, 6.79038654e-313,\n",
              "        2.35541533e-312],\n",
              "       [2.46151512e-312, 6.79038654e-313, 2.35541533e-312,\n",
              "        6.79038654e-313],\n",
              "       [2.14321575e-312, 2.22809558e-312, 2.14321575e-312,\n",
              "        5.36094802e+199]])"
            ]
          },
          "metadata": {},
          "execution_count": 9
        }
      ]
    },
    {
      "cell_type": "code",
      "source": [
        "#특정 범위의 변수를 생성 할 때 arrange(를 사용한다.)\n",
        "print(np.arange(10))\n",
        "print(np.arange(1,10))\n",
        "print(np.arange(1,10,2))"
      ],
      "metadata": {
        "colab": {
          "base_uri": "https://localhost:8080/"
        },
        "id": "atLdQ7wInw5Q",
        "outputId": "372e3252-bab0-4b48-aed3-46906c0c9759"
      },
      "execution_count": 12,
      "outputs": [
        {
          "output_type": "stream",
          "name": "stdout",
          "text": [
            "[0 1 2 3 4 5 6 7 8 9]\n",
            "[1 2 3 4 5 6 7 8 9]\n",
            "[1 3 5 7 9]\n"
          ]
        }
      ]
    },
    {
      "cell_type": "code",
      "source": [
        "# ndarray배열의 모양, 차수, 데이터 타입 확인해보기기\n",
        "arr = np.array([[1,2,3,],[4,5,6]])\n",
        "print(arr)"
      ],
      "metadata": {
        "colab": {
          "base_uri": "https://localhost:8080/"
        },
        "id": "vJLEcCQ1ogv2",
        "outputId": "b2cc2995-a051-497d-9f32-3860c1273974"
      },
      "execution_count": 16,
      "outputs": [
        {
          "output_type": "stream",
          "name": "stdout",
          "text": [
            "[[1 2 3]\n",
            " [4 5 6]]\n"
          ]
        }
      ]
    },
    {
      "cell_type": "code",
      "source": [
        "#차원의 확인\n",
        "arr.ndim"
      ],
      "metadata": {
        "colab": {
          "base_uri": "https://localhost:8080/"
        },
        "id": "RXxcckBRpVtC",
        "outputId": "09adc030-1ed2-473b-c65b-af0d8cf8ecb8"
      },
      "execution_count": 17,
      "outputs": [
        {
          "output_type": "execute_result",
          "data": {
            "text/plain": [
              "2"
            ]
          },
          "metadata": {},
          "execution_count": 17
        }
      ]
    },
    {
      "cell_type": "code",
      "source": [
        "#데이터의 모양을 확인하는 방법\n",
        "arr.shape"
      ],
      "metadata": {
        "colab": {
          "base_uri": "https://localhost:8080/"
        },
        "id": "lP7hAIDSpgF3",
        "outputId": "8b90a9df-d1be-4fa7-a003-fe6f0960ca0b"
      },
      "execution_count": 18,
      "outputs": [
        {
          "output_type": "execute_result",
          "data": {
            "text/plain": [
              "(2, 3)"
            ]
          },
          "metadata": {},
          "execution_count": 18
        }
      ]
    },
    {
      "cell_type": "code",
      "source": [
        "#데이터 타입의 확인\n",
        "print(type(arr))\n",
        "print(arr.dtype)"
      ],
      "metadata": {
        "colab": {
          "base_uri": "https://localhost:8080/"
        },
        "id": "h-DiQfE-p2lZ",
        "outputId": "5642f53b-4a91-4296-81cc-7ad1e77ccea2"
      },
      "execution_count": 19,
      "outputs": [
        {
          "output_type": "stream",
          "name": "stdout",
          "text": [
            "<class 'numpy.ndarray'>\n",
            "int64\n"
          ]
        }
      ]
    },
    {
      "cell_type": "code",
      "source": [
        "# ndarray 배열의 타입 변환\n",
        "\n",
        "arr_int = np.array([1,2,3,4])\n",
        "print(arr_int.dtype)\n",
        "arr_float = arr_int.astype(np.float64)\n",
        "print(arr_float.dtype)"
      ],
      "metadata": {
        "colab": {
          "base_uri": "https://localhost:8080/"
        },
        "id": "2Ad5JTzvru_v",
        "outputId": "fd50add9-410d-4c27-e6e3-aa13db03a492"
      },
      "execution_count": 23,
      "outputs": [
        {
          "output_type": "stream",
          "name": "stdout",
          "text": [
            "int64\n",
            "float64\n"
          ]
        }
      ]
    },
    {
      "cell_type": "code",
      "source": [
        "# U1 = 유니코드형을 뜻함함\n",
        "arr_str = np.array(['1','2','3','4'])\n",
        "print(arr_str.dtype)\n",
        "arr_int = arr_str.astype(np.int64)\n",
        "print(arr_int.dtype)"
      ],
      "metadata": {
        "colab": {
          "base_uri": "https://localhost:8080/"
        },
        "id": "XpAoeueFvm3k",
        "outputId": "697c012b-a6bd-4e7b-ad7e-4bfe73744de2"
      },
      "execution_count": 27,
      "outputs": [
        {
          "output_type": "stream",
          "name": "stdout",
          "text": [
            "<U1\n",
            "int64\n"
          ]
        }
      ]
    },
    {
      "cell_type": "code",
      "source": [
        "#배열의 연산\n",
        "arr1=np.array([[1,2],[3,4]])\n",
        "arr2=np.array([[5,6],[7,8]])\n",
        "print(arr1 + arr2)\n",
        "print(arr1-arr2)\n",
        "print(arr1*arr2)"
      ],
      "metadata": {
        "colab": {
          "base_uri": "https://localhost:8080/"
        },
        "id": "QvgWsbLYwWAQ",
        "outputId": "b0ad0999-003f-40c2-e95f-edf09e78d080"
      },
      "execution_count": 30,
      "outputs": [
        {
          "output_type": "stream",
          "name": "stdout",
          "text": [
            "[[ 6  8]\n",
            " [10 12]]\n",
            "[[-4 -4]\n",
            " [-4 -4]]\n",
            "[[ 5 12]\n",
            " [21 32]]\n"
          ]
        }
      ]
    },
    {
      "cell_type": "code",
      "source": [
        "#더하기 곱하기\n",
        "print(np.add(arr1,arr2))\n",
        "print(np.multiply(arr1,arr2))\n"
      ],
      "metadata": {
        "colab": {
          "base_uri": "https://localhost:8080/"
        },
        "id": "w1gUzw78yG2S",
        "outputId": "1b7a80e5-9324-4b50-c20e-e1b4d5a3bd0d"
      },
      "execution_count": 34,
      "outputs": [
        {
          "output_type": "stream",
          "name": "stdout",
          "text": [
            "[[ 6  8]\n",
            " [10 12]]\n",
            "[[ 5 12]\n",
            " [21 32]]\n"
          ]
        }
      ]
    },
    {
      "cell_type": "code",
      "source": [
        "#ndarray 배열 슬라이스\n",
        "arr = np.array([[1,2,3],[4,5,6],[7,8,9]])"
      ],
      "metadata": {
        "id": "2Jq_rg3gynd1"
      },
      "execution_count": 35,
      "outputs": []
    },
    {
      "cell_type": "code",
      "source": [
        "# 종: 0,1 까지 #횡 1,2까지지\n",
        "arr_1 = arr[:2,1:3]\n",
        "print(arr_1)"
      ],
      "metadata": {
        "colab": {
          "base_uri": "https://localhost:8080/"
        },
        "id": "q11zWI0fzQHT",
        "outputId": "b6d55f32-b6fd-4c10-c7ac-06b578645ea6"
      },
      "execution_count": 36,
      "outputs": [
        {
          "output_type": "stream",
          "name": "stdout",
          "text": [
            "[[2 3]\n",
            " [5 6]]\n"
          ]
        }
      ]
    },
    {
      "cell_type": "code",
      "source": [
        "#\n",
        "arr = np.array([[1,2,3],[4,5,6],[7,8,9]])\n",
        "arr[0,2]"
      ],
      "metadata": {
        "colab": {
          "base_uri": "https://localhost:8080/"
        },
        "id": "isgCJawr0Z5t",
        "outputId": "073d41ed-523d-47a3-b9c8-3ee191ea98dc"
      },
      "execution_count": 37,
      "outputs": [
        {
          "output_type": "execute_result",
          "data": {
            "text/plain": [
              "3"
            ]
          },
          "metadata": {},
          "execution_count": 37
        }
      ]
    },
    {
      "cell_type": "code",
      "source": [
        "arr = np.array([[1,2,3],[4,5,6]])\n",
        "idx = arr > 3\n",
        "print(idx)"
      ],
      "metadata": {
        "colab": {
          "base_uri": "https://localhost:8080/"
        },
        "id": "Uc26Ivfb1K5T",
        "outputId": "c10232c4-48c7-4e08-eb9f-e7127d54c8e7"
      },
      "execution_count": 39,
      "outputs": [
        {
          "output_type": "stream",
          "name": "stdout",
          "text": [
            "[[False False False]\n",
            " [ True  True  True]]\n"
          ]
        }
      ]
    },
    {
      "cell_type": "code",
      "source": [
        "arr[idx]\n"
      ],
      "metadata": {
        "colab": {
          "base_uri": "https://localhost:8080/"
        },
        "id": "B77bGrnU2GCU",
        "outputId": "43bdcabc-55ea-42a6-d5fd-4ea48a602f83"
      },
      "execution_count": 43,
      "outputs": [
        {
          "output_type": "execute_result",
          "data": {
            "text/plain": [
              "array([4, 5, 6])"
            ]
          },
          "metadata": {},
          "execution_count": 43
        }
      ]
    },
    {
      "cell_type": "code",
      "source": [
        "redwine = np.loadtxt(fname='winequality-red.csv',delimiter=';', skiprows=1)"
      ],
      "metadata": {
        "id": "BjrJk3iA5Ki0"
      },
      "execution_count": 51,
      "outputs": []
    },
    {
      "cell_type": "code",
      "source": [
        "print(redwine)"
      ],
      "metadata": {
        "colab": {
          "base_uri": "https://localhost:8080/"
        },
        "id": "Eh_XfJvLAWo_",
        "outputId": "920e1176-149e-41a8-df3b-e9d51b2e1764"
      },
      "execution_count": 56,
      "outputs": [
        {
          "output_type": "stream",
          "name": "stdout",
          "text": [
            "[[ 7.4    0.7    0.    ...  0.56   9.4    5.   ]\n",
            " [ 7.8    0.88   0.    ...  0.68   9.8    5.   ]\n",
            " [ 7.8    0.76   0.04  ...  0.65   9.8    5.   ]\n",
            " ...\n",
            " [ 6.3    0.51   0.13  ...  0.75  11.     6.   ]\n",
            " [ 5.9    0.645  0.12  ...  0.71  10.2    5.   ]\n",
            " [ 6.     0.31   0.47  ...  0.66  11.     6.   ]]\n"
          ]
        }
      ]
    },
    {
      "cell_type": "code",
      "source": [
        "#기초 통계함수\n",
        "#sum    합\n",
        "#mean   평균\n",
        "#std    표준편차\n",
        "#var    분산  (std의 제곱곱)\n",
        "#min    최소값\n",
        "#max    최대값\n",
        "\n",
        "print(redwine.sum())\n",
        "print(redwine.sum(axis=0))\n",
        "print(redwine.mean(axis=0))"
      ],
      "metadata": {
        "colab": {
          "base_uri": "https://localhost:8080/"
        },
        "id": "m9ZJVn4q6Wqu",
        "outputId": "6e2b1d72-b353-49a6-f43f-7b4fc01e3aa4"
      },
      "execution_count": 55,
      "outputs": [
        {
          "output_type": "stream",
          "name": "stdout",
          "text": [
            "152084.78194\n",
            "[13303.1       843.985     433.29     4059.55      139.859   25384.\n",
            " 74302.       1593.79794  5294.47     1052.38    16666.35     9012.     ]\n",
            "[ 8.31963727  0.52782051  0.27097561  2.5388055   0.08746654 15.87492183\n",
            " 46.46779237  0.99674668  3.3111132   0.65814884 10.42298311  5.63602251]\n"
          ]
        }
      ]
    },
    {
      "cell_type": "code",
      "source": [
        "print(redwine[:,0].mean())"
      ],
      "metadata": {
        "colab": {
          "base_uri": "https://localhost:8080/"
        },
        "id": "C3uAOrYMAa5_",
        "outputId": "f07be953-c810-409e-db7b-c4f1f5f77f49"
      },
      "execution_count": 62,
      "outputs": [
        {
          "output_type": "stream",
          "name": "stdout",
          "text": [
            "8.31963727329581\n"
          ]
        }
      ]
    },
    {
      "cell_type": "code",
      "source": [
        "print(redwine.max)"
      ],
      "metadata": {
        "colab": {
          "base_uri": "https://localhost:8080/"
        },
        "id": "P1TiiBo1BkEh",
        "outputId": "e0d4d47f-0a8a-457d-e6e9-d4e21a885ab1"
      },
      "execution_count": 63,
      "outputs": [
        {
          "output_type": "stream",
          "name": "stdout",
          "text": [
            "<built-in method max of numpy.ndarray object at 0x7fa2d2d67f90>\n"
          ]
        }
      ]
    }
  ]
}