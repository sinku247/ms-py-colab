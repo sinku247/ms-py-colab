{
  "nbformat": 4,
  "nbformat_minor": 0,
  "metadata": {
    "colab": {
      "provenance": [],
      "authorship_tag": "ABX9TyNvzXVE1AxgjLSIoJyF05eG",
      "include_colab_link": true
    },
    "kernelspec": {
      "name": "python3",
      "display_name": "Python 3"
    },
    "language_info": {
      "name": "python"
    }
  },
  "cells": [
    {
      "cell_type": "markdown",
      "metadata": {
        "id": "view-in-github",
        "colab_type": "text"
      },
      "source": [
        "<a href=\"https://colab.research.google.com/github/sinku247/ms-py-colab/blob/main/Python_04_Control.ipynb\" target=\"_parent\"><img src=\"https://colab.research.google.com/assets/colab-badge.svg\" alt=\"Open In Colab\"/></a>"
      ]
    },
    {
      "cell_type": "code",
      "execution_count": 1,
      "metadata": {
        "colab": {
          "base_uri": "https://localhost:8080/"
        },
        "id": "to-wnnMgkS3h",
        "outputId": "f68231bd-78af-4a28-8089-f6642274d2d2"
      },
      "outputs": [
        {
          "output_type": "stream",
          "name": "stdout",
          "text": [
            "value is bigger than 5\n"
          ]
        }
      ],
      "source": [
        "value = 10\n",
        "if value > 5:\n",
        "  print('value is bigger than 5')"
      ]
    },
    {
      "cell_type": "code",
      "source": [
        "money = 10\n",
        "if money > 100:\n",
        "  item = 'apple'\n",
        "else:\n",
        "  item = 'banana'\n",
        "\n",
        "print(item)"
      ],
      "metadata": {
        "colab": {
          "base_uri": "https://localhost:8080/"
        },
        "id": "vgq44_8-kwTb",
        "outputId": "eacd6f3c-8450-472f-ca68-6756c13aa1ec"
      },
      "execution_count": 2,
      "outputs": [
        {
          "output_type": "stream",
          "name": "stdout",
          "text": [
            "banana\n"
          ]
        }
      ]
    },
    {
      "cell_type": "code",
      "source": [
        "#성적처리\n",
        "\n",
        "score = int(input(('input your score:')))\n",
        "\n",
        "if 90 <= score <= 100:\n",
        "  grade = 'A'\n",
        "elif 80<= score < 90:\n",
        "  grade = 'B'\n",
        "elif 70<= score <80:\n",
        "  grade = 'C'\n",
        "elif 60<= score <70:\n",
        "  grade = 'D'\n",
        "else:\n",
        "  grade = 'F'\n",
        "\n",
        "\n",
        "print('your score is ' + str(score))\n",
        "print('your grade is ' + grade)"
      ],
      "metadata": {
        "colab": {
          "base_uri": "https://localhost:8080/"
        },
        "id": "mR1D_BiKlCoS",
        "outputId": "2c91247e-b37e-4df9-b3c4-6a991cf3ea55"
      },
      "execution_count": 13,
      "outputs": [
        {
          "output_type": "stream",
          "name": "stdout",
          "text": [
            "input your score:80\n",
            "your score is 80\n",
            "your grade is B\n"
          ]
        }
      ]
    },
    {
      "cell_type": "code",
      "source": [
        "#조건식의 참과 거짓\n",
        "\n",
        "print(bool(True))\n",
        "print(bool(False))\n",
        "print(bool(123))\n",
        "print(bool(0))\n",
        "print(bool(-1))\n",
        "print(bool('apple'))\n",
        "print(bool(''))\n",
        "print(bool())\n",
        "\n"
      ],
      "metadata": {
        "colab": {
          "base_uri": "https://localhost:8080/"
        },
        "id": "v1aFXixMm78H",
        "outputId": "19aa23a0-18b4-4455-9366-d1f6c62bfc4c"
      },
      "execution_count": 18,
      "outputs": [
        {
          "output_type": "stream",
          "name": "stdout",
          "text": [
            "True\n",
            "False\n",
            "True\n",
            "False\n",
            "True\n",
            "True\n",
            "False\n",
            "False\n"
          ]
        }
      ]
    },
    {
      "cell_type": "code",
      "source": [
        "#반복문 (while and for)\n",
        "\n",
        "value = 5 \n",
        "while value > 0:\n",
        "  print(value)\n",
        "  value -= 1\n",
        "  "
      ],
      "metadata": {
        "colab": {
          "base_uri": "https://localhost:8080/"
        },
        "id": "NGR9Upawngpt",
        "outputId": "f3c57afb-37f0-492a-8e15-18df9515bc33"
      },
      "execution_count": 19,
      "outputs": [
        {
          "output_type": "stream",
          "name": "stdout",
          "text": [
            "5\n",
            "4\n",
            "3\n",
            "2\n",
            "1\n"
          ]
        }
      ]
    },
    {
      "cell_type": "code",
      "source": [
        "l = ['apple', 100, 15.23]\n",
        "for i in l:\n",
        "  print(i)"
      ],
      "metadata": {
        "colab": {
          "base_uri": "https://localhost:8080/"
        },
        "id": "ozw-cOXsoaah",
        "outputId": "13de805e-4f41-40e1-ed10-2d0a656cac70"
      },
      "execution_count": 20,
      "outputs": [
        {
          "output_type": "stream",
          "name": "stdout",
          "text": [
            "apple\n",
            "100\n",
            "15.23\n"
          ]
        }
      ]
    },
    {
      "cell_type": "code",
      "source": [
        "loop1= [2,3,4,5,6,7,8,9]\n",
        "loop2= [1,2,3,4,5,6,7,8,9]\n",
        "for i in loop2:\n",
        "  print('2*' + str(i) + '=' + str(2*i))"
      ],
      "metadata": {
        "colab": {
          "base_uri": "https://localhost:8080/"
        },
        "id": "SdBrrSZHoq2v",
        "outputId": "216a65f1-34d8-4cd0-fbd4-943e9728cc16"
      },
      "execution_count": 22,
      "outputs": [
        {
          "output_type": "stream",
          "name": "stdout",
          "text": [
            "2*1=2\n",
            "2*2=4\n",
            "2*3=6\n",
            "2*4=8\n",
            "2*5=10\n",
            "2*6=12\n",
            "2*7=14\n",
            "2*8=16\n",
            "2*9=18\n"
          ]
        }
      ]
    },
    {
      "cell_type": "code",
      "source": [
        "loop1= [2,3,4,5,6,7,8,9]\n",
        "loop2= [1,2,3,4,5,6,7,8,9]\n",
        "for i in loop2:\n",
        "  print('2*{0} = {1}'.format(i, i*2))\n",
        "  print()"
      ],
      "metadata": {
        "colab": {
          "base_uri": "https://localhost:8080/"
        },
        "id": "GZXra3r1pYGV",
        "outputId": "720c2287-7285-461a-aea2-fd0705929bf6"
      },
      "execution_count": 24,
      "outputs": [
        {
          "output_type": "stream",
          "name": "stdout",
          "text": [
            "2*1 = 2\n",
            "1\n",
            "2*2 = 4\n",
            "2\n",
            "2*3 = 6\n",
            "3\n",
            "2*4 = 8\n",
            "4\n",
            "2*5 = 10\n",
            "5\n",
            "2*6 = 12\n",
            "6\n",
            "2*7 = 14\n",
            "7\n",
            "2*8 = 16\n",
            "8\n",
            "2*9 = 18\n",
            "9\n"
          ]
        }
      ]
    }
  ]
}