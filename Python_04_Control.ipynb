{
  "nbformat": 4,
  "nbformat_minor": 0,
  "metadata": {
    "colab": {
      "provenance": [],
      "authorship_tag": "ABX9TyMwcJe/s2AW0oD9nVQNplCx",
      "include_colab_link": true
    },
    "kernelspec": {
      "name": "python3",
      "display_name": "Python 3"
    },
    "language_info": {
      "name": "python"
    }
  },
  "cells": [
    {
      "cell_type": "markdown",
      "metadata": {
        "id": "view-in-github",
        "colab_type": "text"
      },
      "source": [
        "<a href=\"https://colab.research.google.com/github/sinku247/ms-py-colab/blob/main/Python_04_Control.ipynb\" target=\"_parent\"><img src=\"https://colab.research.google.com/assets/colab-badge.svg\" alt=\"Open In Colab\"/></a>"
      ]
    },
    {
      "cell_type": "code",
      "execution_count": null,
      "metadata": {
        "colab": {
          "base_uri": "https://localhost:8080/"
        },
        "id": "to-wnnMgkS3h",
        "outputId": "f68231bd-78af-4a28-8089-f6642274d2d2"
      },
      "outputs": [
        {
          "output_type": "stream",
          "name": "stdout",
          "text": [
            "value is bigger than 5\n"
          ]
        }
      ],
      "source": [
        "value = 10\n",
        "if value > 5:\n",
        "  print('value is bigger than 5')"
      ]
    },
    {
      "cell_type": "code",
      "source": [
        "money = 10\n",
        "if money > 100:\n",
        "  item = 'apple'\n",
        "else:\n",
        "  item = 'banana'\n",
        "\n",
        "print(item)"
      ],
      "metadata": {
        "colab": {
          "base_uri": "https://localhost:8080/"
        },
        "id": "vgq44_8-kwTb",
        "outputId": "eacd6f3c-8450-472f-ca68-6756c13aa1ec"
      },
      "execution_count": null,
      "outputs": [
        {
          "output_type": "stream",
          "name": "stdout",
          "text": [
            "banana\n"
          ]
        }
      ]
    },
    {
      "cell_type": "code",
      "source": [
        "#성적처리\n",
        "\n",
        "score = int(input(('input your score:')))\n",
        "\n",
        "if 90 <= score <= 100:\n",
        "  grade = 'A'\n",
        "elif 80<= score < 90:\n",
        "  grade = 'B'\n",
        "elif 70<= score <80:\n",
        "  grade = 'C'\n",
        "elif 60<= score <70:\n",
        "  grade = 'D'\n",
        "else:\n",
        "  grade = 'F'\n",
        "\n",
        "\n",
        "print('your score is ' + str(score))\n",
        "print('your grade is ' + grade)"
      ],
      "metadata": {
        "colab": {
          "base_uri": "https://localhost:8080/"
        },
        "id": "mR1D_BiKlCoS",
        "outputId": "2c91247e-b37e-4df9-b3c4-6a991cf3ea55"
      },
      "execution_count": null,
      "outputs": [
        {
          "output_type": "stream",
          "name": "stdout",
          "text": [
            "input your score:80\n",
            "your score is 80\n",
            "your grade is B\n"
          ]
        }
      ]
    },
    {
      "cell_type": "code",
      "source": [
        "#조건식의 참과 거짓\n",
        "\n",
        "print(bool(True))\n",
        "print(bool(False))\n",
        "print(bool(123))\n",
        "print(bool(0))\n",
        "print(bool(-1))\n",
        "print(bool('apple'))\n",
        "print(bool(''))\n",
        "print(bool())\n",
        "\n"
      ],
      "metadata": {
        "colab": {
          "base_uri": "https://localhost:8080/"
        },
        "id": "v1aFXixMm78H",
        "outputId": "19aa23a0-18b4-4455-9366-d1f6c62bfc4c"
      },
      "execution_count": null,
      "outputs": [
        {
          "output_type": "stream",
          "name": "stdout",
          "text": [
            "True\n",
            "False\n",
            "True\n",
            "False\n",
            "True\n",
            "True\n",
            "False\n",
            "False\n"
          ]
        }
      ]
    },
    {
      "cell_type": "code",
      "source": [
        "#반복문 (while and for)\n",
        "\n",
        "value = 5 \n",
        "while value > 0:\n",
        "  print(value)\n",
        "  value -= 1\n",
        "  "
      ],
      "metadata": {
        "colab": {
          "base_uri": "https://localhost:8080/"
        },
        "id": "NGR9Upawngpt",
        "outputId": "f3c57afb-37f0-492a-8e15-18df9515bc33"
      },
      "execution_count": null,
      "outputs": [
        {
          "output_type": "stream",
          "name": "stdout",
          "text": [
            "5\n",
            "4\n",
            "3\n",
            "2\n",
            "1\n"
          ]
        }
      ]
    },
    {
      "cell_type": "code",
      "source": [
        "l = ['apple', 100, 15.23]\n",
        "for i in l:\n",
        "  print(i)"
      ],
      "metadata": {
        "colab": {
          "base_uri": "https://localhost:8080/"
        },
        "id": "ozw-cOXsoaah",
        "outputId": "13de805e-4f41-40e1-ed10-2d0a656cac70"
      },
      "execution_count": null,
      "outputs": [
        {
          "output_type": "stream",
          "name": "stdout",
          "text": [
            "apple\n",
            "100\n",
            "15.23\n"
          ]
        }
      ]
    },
    {
      "cell_type": "code",
      "source": [
        "loop1= [2,3,4,5,6,7,8,9]\n",
        "loop2= [1,2,3,4,5,6,7,8,9]\n",
        "for i in loop2:\n",
        "  print('2*' + str(i) + '=' + str(2*i))"
      ],
      "metadata": {
        "colab": {
          "base_uri": "https://localhost:8080/"
        },
        "id": "SdBrrSZHoq2v",
        "outputId": "216a65f1-34d8-4cd0-fbd4-943e9728cc16"
      },
      "execution_count": null,
      "outputs": [
        {
          "output_type": "stream",
          "name": "stdout",
          "text": [
            "2*1=2\n",
            "2*2=4\n",
            "2*3=6\n",
            "2*4=8\n",
            "2*5=10\n",
            "2*6=12\n",
            "2*7=14\n",
            "2*8=16\n",
            "2*9=18\n"
          ]
        }
      ]
    },
    {
      "cell_type": "code",
      "source": [
        "loop1= [2,3,4,5,6,7,8,9]\n",
        "loop2= [1,2,3,4,5,6,7,8,9]\n",
        "for i in loop2:\n",
        "  print('2*{0} = {1}'.format(i, i*2))\n",
        "  "
      ],
      "metadata": {
        "colab": {
          "base_uri": "https://localhost:8080/"
        },
        "id": "GZXra3r1pYGV",
        "outputId": "25b647a4-4467-4886-c7d3-68134429a399"
      },
      "execution_count": null,
      "outputs": [
        {
          "output_type": "stream",
          "name": "stdout",
          "text": [
            "2*1 = 2\n",
            "2*2 = 4\n",
            "2*3 = 6\n",
            "2*4 = 8\n",
            "2*5 = 10\n",
            "2*6 = 12\n",
            "2*7 = 14\n",
            "2*8 = 16\n",
            "2*9 = 18\n"
          ]
        }
      ]
    },
    {
      "cell_type": "code",
      "source": [
        "loop1= [2,3,4,5,6,7,8,9]            #구구단 만들기 i 안에 j를 넣어 포문 두번 돌리기.\n",
        "loop2= [1,2,3,4,5,6,7,8,9]\n",
        "for i in loop1:\n",
        "  print(\n",
        "      \n",
        "  )\n",
        "  for j in loop2:\n",
        "    print('{0}*{1}={2}'.format(i, j, i*j))"
      ],
      "metadata": {
        "colab": {
          "base_uri": "https://localhost:8080/"
        },
        "id": "bZZvuhMI_C-U",
        "outputId": "2becf5e4-425e-4ca4-aef7-bc7b8ddbc533"
      },
      "execution_count": null,
      "outputs": [
        {
          "output_type": "stream",
          "name": "stdout",
          "text": [
            "\n",
            "2*1=2\n",
            "2*2=4\n",
            "2*3=6\n",
            "2*4=8\n",
            "2*5=10\n",
            "2*6=12\n",
            "2*7=14\n",
            "2*8=16\n",
            "2*9=18\n",
            "\n",
            "3*1=3\n",
            "3*2=6\n",
            "3*3=9\n",
            "3*4=12\n",
            "3*5=15\n",
            "3*6=18\n",
            "3*7=21\n",
            "3*8=24\n",
            "3*9=27\n",
            "\n",
            "4*1=4\n",
            "4*2=8\n",
            "4*3=12\n",
            "4*4=16\n",
            "4*5=20\n",
            "4*6=24\n",
            "4*7=28\n",
            "4*8=32\n",
            "4*9=36\n",
            "\n",
            "5*1=5\n",
            "5*2=10\n",
            "5*3=15\n",
            "5*4=20\n",
            "5*5=25\n",
            "5*6=30\n",
            "5*7=35\n",
            "5*8=40\n",
            "5*9=45\n",
            "\n",
            "6*1=6\n",
            "6*2=12\n",
            "6*3=18\n",
            "6*4=24\n",
            "6*5=30\n",
            "6*6=36\n",
            "6*7=42\n",
            "6*8=48\n",
            "6*9=54\n",
            "\n",
            "7*1=7\n",
            "7*2=14\n",
            "7*3=21\n",
            "7*4=28\n",
            "7*5=35\n",
            "7*6=42\n",
            "7*7=49\n",
            "7*8=56\n",
            "7*9=63\n",
            "\n",
            "8*1=8\n",
            "8*2=16\n",
            "8*3=24\n",
            "8*4=32\n",
            "8*5=40\n",
            "8*6=48\n",
            "8*7=56\n",
            "8*8=64\n",
            "8*9=72\n",
            "\n",
            "9*1=9\n",
            "9*2=18\n",
            "9*3=27\n",
            "9*4=36\n",
            "9*5=45\n",
            "9*6=54\n",
            "9*7=63\n",
            "9*8=72\n",
            "9*9=81\n"
          ]
        }
      ]
    },
    {
      "cell_type": "code",
      "source": [
        "L = [1,2,3,4,5,6,7,8,9,10]"
      ],
      "metadata": {
        "id": "ZiPFWnso_jho"
      },
      "execution_count": 6,
      "outputs": []
    },
    {
      "cell_type": "code",
      "source": [
        "#break문을 사용하면 반복문을 중간에 멈출 수 있음.\n",
        "\n",
        "for i in L:\n",
        "  if i>5:\n",
        "    break\n",
        "  print('Item: {0}'.format(i))"
      ],
      "metadata": {
        "colab": {
          "base_uri": "https://localhost:8080/"
        },
        "id": "vYAgiiRS94ob",
        "outputId": "cf9b38be-2742-4c8e-c83b-fe7c981b73c6"
      },
      "execution_count": 7,
      "outputs": [
        {
          "output_type": "stream",
          "name": "stdout",
          "text": [
            "Item: 1\n",
            "Item: 2\n",
            "Item: 3\n",
            "Item: 4\n",
            "Item: 5\n"
          ]
        }
      ]
    },
    {
      "cell_type": "code",
      "source": [
        "#continue문을 사용하면 해당 반복만 건너뛴다.\n",
        "for i in L:\n",
        "  if i%2 ==0:\n",
        "    continue\n",
        "  print('Item {0}'.format(i))"
      ],
      "metadata": {
        "colab": {
          "base_uri": "https://localhost:8080/"
        },
        "id": "ffFL0vrp-nGF",
        "outputId": "397196ca-3f64-487c-a21b-2919cd756273"
      },
      "execution_count": 8,
      "outputs": [
        {
          "output_type": "stream",
          "name": "stdout",
          "text": [
            "Item 1\n",
            "Item 3\n",
            "Item 5\n",
            "Item 7\n",
            "Item 9\n"
          ]
        }
      ]
    },
    {
      "cell_type": "code",
      "source": [
        "#range 함수를 사용하면 특정 범위의 숫자를 생성할 수 있다.\n",
        "print(list(range(10)))\n",
        "print(list(range(5,10)))\n",
        "print(list(range(10,0,-1)))\n",
        "print(list(range(0,10,2)))"
      ],
      "metadata": {
        "colab": {
          "base_uri": "https://localhost:8080/"
        },
        "id": "uwuEpZzW_zPo",
        "outputId": "a146feeb-9b99-4816-e3d2-17d350261aa8"
      },
      "execution_count": 12,
      "outputs": [
        {
          "output_type": "stream",
          "name": "stdout",
          "text": [
            "[0, 1, 2, 3, 4, 5, 6, 7, 8, 9]\n",
            "[5, 6, 7, 8, 9]\n",
            "[10, 9, 8, 7, 6, 5, 4, 3, 2, 1]\n",
            "[0, 2, 4, 6, 8]\n"
          ]
        }
      ]
    },
    {
      "cell_type": "code",
      "source": [
        "L = ['Apple','Orange','Banana']\n",
        "\n",
        "for i in L:\n",
        "  print(i)"
      ],
      "metadata": {
        "colab": {
          "base_uri": "https://localhost:8080/"
        },
        "id": "4mEv2tNBAvaG",
        "outputId": "890dc034-7c6a-47a6-f8e0-2cbebb2913ff"
      },
      "execution_count": 13,
      "outputs": [
        {
          "output_type": "stream",
          "name": "stdout",
          "text": [
            "Apple\n",
            "Orange\n",
            "Banana\n"
          ]
        }
      ]
    },
    {
      "cell_type": "code",
      "source": [
        "l = list(range(1,6))"
      ],
      "metadata": {
        "id": "8uip-TTAA7bf"
      },
      "execution_count": 14,
      "outputs": []
    },
    {
      "cell_type": "code",
      "source": [
        "[print(i) for i in l]"
      ],
      "metadata": {
        "colab": {
          "base_uri": "https://localhost:8080/"
        },
        "id": "nJYswdhHBACD",
        "outputId": "44223a47-15ce-4d25-f5bc-7375428080c0"
      },
      "execution_count": 15,
      "outputs": [
        {
          "output_type": "stream",
          "name": "stdout",
          "text": [
            "1\n",
            "2\n",
            "3\n",
            "4\n",
            "5\n"
          ]
        },
        {
          "output_type": "execute_result",
          "data": {
            "text/plain": [
              "[None, None, None, None, None]"
            ]
          },
          "metadata": {},
          "execution_count": 15
        }
      ]
    },
    {
      "cell_type": "code",
      "source": [
        "[i**2 for i in l]"
      ],
      "metadata": {
        "colab": {
          "base_uri": "https://localhost:8080/"
        },
        "id": "yZwRCt2FBI-q",
        "outputId": "dc7b1e89-0727-4a57-bb84-903890d6bd79"
      },
      "execution_count": 16,
      "outputs": [
        {
          "output_type": "execute_result",
          "data": {
            "text/plain": [
              "[1, 4, 9, 16, 25]"
            ]
          },
          "metadata": {},
          "execution_count": 16
        }
      ]
    }
  ]
}