{
  "nbformat": 4,
  "nbformat_minor": 0,
  "metadata": {
    "colab": {
      "provenance": [],
      "authorship_tag": "ABX9TyPpZd3XPndhC53xi9UQVoPq",
      "include_colab_link": true
    },
    "kernelspec": {
      "name": "python3",
      "display_name": "Python 3"
    },
    "language_info": {
      "name": "python"
    }
  },
  "cells": [
    {
      "cell_type": "markdown",
      "metadata": {
        "id": "view-in-github",
        "colab_type": "text"
      },
      "source": [
        "<a href=\"https://colab.research.google.com/github/sinku247/ms-py-colab/blob/main/PythonCognitiveCustomVision.ipynb\" target=\"_parent\"><img src=\"https://colab.research.google.com/assets/colab-badge.svg\" alt=\"Open In Colab\"/></a>"
      ]
    },
    {
      "cell_type": "code",
      "execution_count": 4,
      "metadata": {
        "colab": {
          "base_uri": "https://localhost:8080/"
        },
        "id": "Ti-mcAQLYt9t",
        "outputId": "4d337591-d628-4f9c-da9a-9f091081f0a3"
      },
      "outputs": [
        {
          "output_type": "stream",
          "name": "stdout",
          "text": [
            "Looking in indexes: https://pypi.org/simple, https://us-python.pkg.dev/colab-wheels/public/simple/\n",
            "Collecting azure-cognitiveservices-vision-customvision\n",
            "  Downloading azure_cognitiveservices_vision_customvision-3.1.0-py2.py3-none-any.whl (62 kB)\n",
            "\u001b[2K     \u001b[90m━━━━━━━━━━━━━━━━━━━━━━━━━━━━━━━━━━━━━━━━\u001b[0m \u001b[32m62.0/62.0 kB\u001b[0m \u001b[31m5.8 MB/s\u001b[0m eta \u001b[36m0:00:00\u001b[0m\n",
            "\u001b[?25hCollecting azure-common~=1.1\n",
            "  Downloading azure_common-1.1.28-py2.py3-none-any.whl (14 kB)\n",
            "Collecting msrest>=0.5.0\n",
            "  Downloading msrest-0.7.1-py3-none-any.whl (85 kB)\n",
            "\u001b[2K     \u001b[90m━━━━━━━━━━━━━━━━━━━━━━━━━━━━━━━━━━━━━━━━\u001b[0m \u001b[32m85.4/85.4 kB\u001b[0m \u001b[31m11.4 MB/s\u001b[0m eta \u001b[36m0:00:00\u001b[0m\n",
            "\u001b[?25hRequirement already satisfied: requests~=2.16 in /usr/local/lib/python3.9/dist-packages (from msrest>=0.5.0->azure-cognitiveservices-vision-customvision) (2.27.1)\n",
            "Requirement already satisfied: requests-oauthlib>=0.5.0 in /usr/local/lib/python3.9/dist-packages (from msrest>=0.5.0->azure-cognitiveservices-vision-customvision) (1.3.1)\n",
            "Requirement already satisfied: certifi>=2017.4.17 in /usr/local/lib/python3.9/dist-packages (from msrest>=0.5.0->azure-cognitiveservices-vision-customvision) (2022.12.7)\n",
            "Collecting azure-core>=1.24.0\n",
            "  Downloading azure_core-1.26.4-py3-none-any.whl (173 kB)\n",
            "\u001b[2K     \u001b[90m━━━━━━━━━━━━━━━━━━━━━━━━━━━━━━━━━━━━━━\u001b[0m \u001b[32m173.9/173.9 kB\u001b[0m \u001b[31m21.2 MB/s\u001b[0m eta \u001b[36m0:00:00\u001b[0m\n",
            "\u001b[?25hCollecting isodate>=0.6.0\n",
            "  Downloading isodate-0.6.1-py2.py3-none-any.whl (41 kB)\n",
            "\u001b[2K     \u001b[90m━━━━━━━━━━━━━━━━━━━━━━━━━━━━━━━━━━━━━━━━\u001b[0m \u001b[32m41.7/41.7 kB\u001b[0m \u001b[31m5.5 MB/s\u001b[0m eta \u001b[36m0:00:00\u001b[0m\n",
            "\u001b[?25hRequirement already satisfied: typing-extensions>=4.3.0 in /usr/local/lib/python3.9/dist-packages (from azure-core>=1.24.0->msrest>=0.5.0->azure-cognitiveservices-vision-customvision) (4.5.0)\n",
            "Requirement already satisfied: six>=1.11.0 in /usr/local/lib/python3.9/dist-packages (from azure-core>=1.24.0->msrest>=0.5.0->azure-cognitiveservices-vision-customvision) (1.16.0)\n",
            "Requirement already satisfied: charset-normalizer~=2.0.0 in /usr/local/lib/python3.9/dist-packages (from requests~=2.16->msrest>=0.5.0->azure-cognitiveservices-vision-customvision) (2.0.12)\n",
            "Requirement already satisfied: idna<4,>=2.5 in /usr/local/lib/python3.9/dist-packages (from requests~=2.16->msrest>=0.5.0->azure-cognitiveservices-vision-customvision) (3.4)\n",
            "Requirement already satisfied: urllib3<1.27,>=1.21.1 in /usr/local/lib/python3.9/dist-packages (from requests~=2.16->msrest>=0.5.0->azure-cognitiveservices-vision-customvision) (1.26.15)\n",
            "Requirement already satisfied: oauthlib>=3.0.0 in /usr/local/lib/python3.9/dist-packages (from requests-oauthlib>=0.5.0->msrest>=0.5.0->azure-cognitiveservices-vision-customvision) (3.2.2)\n",
            "Installing collected packages: azure-common, isodate, azure-core, msrest, azure-cognitiveservices-vision-customvision\n",
            "Successfully installed azure-cognitiveservices-vision-customvision-3.1.0 azure-common-1.1.28 azure-core-1.26.4 isodate-0.6.1 msrest-0.7.1\n"
          ]
        }
      ],
      "source": [
        "pip install azure-cognitiveservices-vision-customvision"
      ]
    },
    {
      "cell_type": "code",
      "source": [
        "from azure.cognitiveservices.vision.customvision.training import CustomVisionTrainingClient\n",
        "from azure.cognitiveservices.vision.customvision.training.models import ImageIdCreateEntry\n",
        "from msrest.authentication import ApiKeyCredentials"
      ],
      "metadata": {
        "id": "DAFAJqlxaiEB"
      },
      "execution_count": 8,
      "outputs": []
    },
    {
      "cell_type": "code",
      "source": [
        "endpoint = '0000000000000000000000000000000000000000000'\n",
        "training_key = '0000000000000000000000000000000000000000'"
      ],
      "metadata": {
        "id": "nUSLlRHrbVDR"
      },
      "execution_count": 28,
      "outputs": []
    },
    {
      "cell_type": "code",
      "source": [
        "publish_iteration_name = 'GreatWallModel_63'\n",
        "credentials = ApiKeyCredentials(in_headers={'Training-key':training_key})"
      ],
      "metadata": {
        "id": "LCIAzCqTc0iP"
      },
      "execution_count": 16,
      "outputs": []
    },
    {
      "cell_type": "code",
      "source": [
        "trainer = CustomVisionTrainingClient(endpoint, credentials)"
      ],
      "metadata": {
        "id": "X__gvkzefNAV"
      },
      "execution_count": 17,
      "outputs": []
    },
    {
      "cell_type": "code",
      "source": [
        "#create a new project\n",
        "print('Creating Project...')\n",
        "project_name = 'GreatWall_63'\n",
        "project = trainer.create_project(project_name)"
      ],
      "metadata": {
        "colab": {
          "base_uri": "https://localhost:8080/"
        },
        "id": "c0K1WiP0foJb",
        "outputId": "f90fc621-6050-4285-918a-2a779afa03df"
      },
      "execution_count": 23,
      "outputs": [
        {
          "output_type": "stream",
          "name": "stdout",
          "text": [
            "Creating Project...\n"
          ]
        }
      ]
    },
    {
      "cell_type": "code",
      "source": [
        "JJM_tag = trainer.create_tag(project.id,'JJM')\n",
        "JP_tag = trainer.create_tag(project.id, 'JP')\n",
        "TSY_tag = trainer.create_tag(project.id,'TSY')"
      ],
      "metadata": {
        "id": "mIcwHy4DhdEN"
      },
      "execution_count": 24,
      "outputs": []
    },
    {
      "cell_type": "code",
      "source": [
        "#학습의 시작\n",
        "import time\n",
        "\n",
        "print('Training...')\n",
        "iteration = trainer.train_project(project.id)\n",
        "while(iteration.status != 'completed'):\n",
        "  iteration = trainer.get_iteration(project.id, iteration.id)\n",
        "  print('Training status:' + iteration.status)\n",
        "  print('Waiting 10 seconds...')\n",
        "  time.sleep(10)"
      ],
      "metadata": {
        "colab": {
          "base_uri": "https://localhost:8080/",
          "height": 1000
        },
        "id": "S847y_xInd9G",
        "outputId": "23df23d3-e86f-448c-b0e2-7e79bebdab21"
      },
      "execution_count": 25,
      "outputs": [
        {
          "output_type": "stream",
          "name": "stdout",
          "text": [
            "Training...\n",
            "Training status:Training\n",
            "Waiting 10 seconds...\n",
            "Training status:Training\n",
            "Waiting 10 seconds...\n",
            "Training status:Training\n",
            "Waiting 10 seconds...\n",
            "Training status:Training\n",
            "Waiting 10 seconds...\n",
            "Training status:Training\n",
            "Waiting 10 seconds...\n",
            "Training status:Training\n",
            "Waiting 10 seconds...\n",
            "Training status:Training\n",
            "Waiting 10 seconds...\n",
            "Training status:Training\n",
            "Waiting 10 seconds...\n",
            "Training status:Training\n",
            "Waiting 10 seconds...\n",
            "Training status:Training\n",
            "Waiting 10 seconds...\n",
            "Training status:Training\n",
            "Waiting 10 seconds...\n",
            "Training status:Training\n",
            "Waiting 10 seconds...\n",
            "Training status:Training\n",
            "Waiting 10 seconds...\n",
            "Training status:Training\n",
            "Waiting 10 seconds...\n",
            "Training status:Training\n",
            "Waiting 10 seconds...\n",
            "Training status:Training\n",
            "Waiting 10 seconds...\n",
            "Training status:Training\n",
            "Waiting 10 seconds...\n",
            "Training status:Training\n",
            "Waiting 10 seconds...\n",
            "Training status:Training\n",
            "Waiting 10 seconds...\n",
            "Training status:Training\n",
            "Waiting 10 seconds...\n",
            "Training status:Training\n",
            "Waiting 10 seconds...\n",
            "Training status:Training\n",
            "Waiting 10 seconds...\n",
            "Training status:Training\n",
            "Waiting 10 seconds...\n",
            "Training status:Training\n",
            "Waiting 10 seconds...\n",
            "Training status:Training\n",
            "Waiting 10 seconds...\n",
            "Training status:Training\n",
            "Waiting 10 seconds...\n",
            "Training status:Training\n",
            "Waiting 10 seconds...\n",
            "Training status:Training\n",
            "Waiting 10 seconds...\n",
            "Training status:Training\n",
            "Waiting 10 seconds...\n",
            "Training status:Training\n",
            "Waiting 10 seconds...\n",
            "Training status:Training\n",
            "Waiting 10 seconds...\n",
            "Training status:Completed\n",
            "Waiting 10 seconds...\n",
            "Training status:Completed\n",
            "Waiting 10 seconds...\n",
            "Training status:Completed\n",
            "Waiting 10 seconds...\n",
            "Training status:Completed\n",
            "Waiting 10 seconds...\n",
            "Training status:Completed\n",
            "Waiting 10 seconds...\n",
            "Training status:Completed\n",
            "Waiting 10 seconds...\n",
            "Training status:Completed\n",
            "Waiting 10 seconds...\n",
            "Training status:Completed\n",
            "Waiting 10 seconds...\n",
            "Training status:Completed\n",
            "Waiting 10 seconds...\n",
            "Training status:Completed\n",
            "Waiting 10 seconds...\n",
            "Training status:Completed\n",
            "Waiting 10 seconds...\n",
            "Training status:Completed\n",
            "Waiting 10 seconds...\n",
            "Training status:Completed\n",
            "Waiting 10 seconds...\n",
            "Training status:Completed\n",
            "Waiting 10 seconds...\n",
            "Training status:Completed\n",
            "Waiting 10 seconds...\n",
            "Training status:Completed\n",
            "Waiting 10 seconds...\n",
            "Training status:Completed\n",
            "Waiting 10 seconds...\n",
            "Training status:Completed\n",
            "Waiting 10 seconds...\n",
            "Training status:Completed\n",
            "Waiting 10 seconds...\n",
            "Training status:Completed\n",
            "Waiting 10 seconds...\n",
            "Training status:Completed\n",
            "Waiting 10 seconds...\n",
            "Training status:Completed\n",
            "Waiting 10 seconds...\n",
            "Training status:Completed\n",
            "Waiting 10 seconds...\n",
            "Training status:Completed\n",
            "Waiting 10 seconds...\n",
            "Training status:Completed\n",
            "Waiting 10 seconds...\n",
            "Training status:Completed\n",
            "Waiting 10 seconds...\n",
            "Training status:Completed\n",
            "Waiting 10 seconds...\n",
            "Training status:Completed\n",
            "Waiting 10 seconds...\n"
          ]
        },
        {
          "output_type": "error",
          "ename": "KeyboardInterrupt",
          "evalue": "ignored",
          "traceback": [
            "\u001b[0;31m---------------------------------------------------------------------------\u001b[0m",
            "\u001b[0;31mKeyboardInterrupt\u001b[0m                         Traceback (most recent call last)",
            "\u001b[0;32m<ipython-input-25-810743fca4f5>\u001b[0m in \u001b[0;36m<cell line: 6>\u001b[0;34m()\u001b[0m\n\u001b[1;32m      8\u001b[0m   \u001b[0mprint\u001b[0m\u001b[0;34m(\u001b[0m\u001b[0;34m'Training status:'\u001b[0m \u001b[0;34m+\u001b[0m \u001b[0miteration\u001b[0m\u001b[0;34m.\u001b[0m\u001b[0mstatus\u001b[0m\u001b[0;34m)\u001b[0m\u001b[0;34m\u001b[0m\u001b[0;34m\u001b[0m\u001b[0m\n\u001b[1;32m      9\u001b[0m   \u001b[0mprint\u001b[0m\u001b[0;34m(\u001b[0m\u001b[0;34m'Waiting 10 seconds...'\u001b[0m\u001b[0;34m)\u001b[0m\u001b[0;34m\u001b[0m\u001b[0;34m\u001b[0m\u001b[0m\n\u001b[0;32m---> 10\u001b[0;31m   \u001b[0mtime\u001b[0m\u001b[0;34m.\u001b[0m\u001b[0msleep\u001b[0m\u001b[0;34m(\u001b[0m\u001b[0;36m10\u001b[0m\u001b[0;34m)\u001b[0m\u001b[0;34m\u001b[0m\u001b[0;34m\u001b[0m\u001b[0m\n\u001b[0m",
            "\u001b[0;31mKeyboardInterrupt\u001b[0m: "
          ]
        }
      ]
    },
    {
      "cell_type": "code",
      "source": [
        "#예측, 추론하는 부분분\n",
        "from azure.cognitiveservices.vision.customvision.prediction import CustomVisionPredictionClient"
      ],
      "metadata": {
        "id": "ABHCoSFe02UW"
      },
      "execution_count": 27,
      "outputs": []
    },
    {
      "cell_type": "code",
      "source": [
        "prediction_key = '000000000000000000000000'\n",
        "prediction_endpoint = '0000000000000000000000000000000000000000'\n",
        "\n",
        "prediction_credential = ApiKeyCredentials(in_headers={'Prediction-key':prediction_key})"
      ],
      "metadata": {
        "id": "yTbeQ33s2W5W"
      },
      "execution_count": 30,
      "outputs": []
    },
    {
      "cell_type": "code",
      "source": [
        "#예측 리소스의 생성\n",
        "predictor = CustomVisionPredictionClient(prediction_endpoint, prediction_credential)"
      ],
      "metadata": {
        "id": "KdLDSzoH3TVh"
      },
      "execution_count": 31,
      "outputs": []
    },
    {
      "cell_type": "code",
      "source": [
        "target_image_url = 'https://image.fmkorea.com/files/attach/new/20200201/3655304/1333360361/2662457728/1e27da61b15ed9f0b3b1c1a7a53197a3.jpg'\n",
        "result = predictor.classify_image_url(project.id,'Iteration1',target_image_url)"
      ],
      "metadata": {
        "id": "5Nz14zG23yx9"
      },
      "execution_count": 39,
      "outputs": []
    },
    {
      "cell_type": "code",
      "source": [
        "for prediction in result.predictions:\n",
        "  print('\\t' + prediction.tag_name + ': {0: .2f}%'.format(prediction.probability * 100))"
      ],
      "metadata": {
        "colab": {
          "base_uri": "https://localhost:8080/"
        },
        "id": "edUbMLgn7J6O",
        "outputId": "46cf5a0c-725e-4e28-96bf-0a17224f7cb3"
      },
      "execution_count": 43,
      "outputs": [
        {
          "output_type": "stream",
          "name": "stdout",
          "text": [
            "\tJJM:  90.83%\n",
            "\tTSY:  10.85%\n",
            "\tJP:  0.22%\n"
          ]
        }
      ]
    }
  ]
}