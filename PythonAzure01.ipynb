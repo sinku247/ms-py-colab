{
  "nbformat": 4,
  "nbformat_minor": 0,
  "metadata": {
    "colab": {
      "provenance": [],
      "authorship_tag": "ABX9TyNPoiuK6mnRp2jL5uNjO84t",
      "include_colab_link": true
    },
    "kernelspec": {
      "name": "python3",
      "display_name": "Python 3"
    },
    "language_info": {
      "name": "python"
    }
  },
  "cells": [
    {
      "cell_type": "markdown",
      "metadata": {
        "id": "view-in-github",
        "colab_type": "text"
      },
      "source": [
        "<a href=\"https://colab.research.google.com/github/sinku247/ms-py-colab/blob/main/PythonAzure01.ipynb\" target=\"_parent\"><img src=\"https://colab.research.google.com/assets/colab-badge.svg\" alt=\"Open In Colab\"/></a>"
      ]
    },
    {
      "cell_type": "code",
      "execution_count": 1,
      "metadata": {
        "colab": {
          "base_uri": "https://localhost:8080/"
        },
        "id": "Q_pyYTQGlZmC",
        "outputId": "810f935b-afdc-4028-a28b-9adb47e61f01"
      },
      "outputs": [
        {
          "output_type": "stream",
          "name": "stdout",
          "text": [
            "Looking in indexes: https://pypi.org/simple, https://us-python.pkg.dev/colab-wheels/public/simple/\n",
            "Collecting azure-storage-blob\n",
            "  Downloading azure_storage_blob-12.16.0-py3-none-any.whl (387 kB)\n",
            "\u001b[2K     \u001b[90m━━━━━━━━━━━━━━━━━━━━━━━━━━━━━━━━━━━━━━━\u001b[0m \u001b[32m388.0/388.0 kB\u001b[0m \u001b[31m6.5 MB/s\u001b[0m eta \u001b[36m0:00:00\u001b[0m\n",
            "\u001b[?25hCollecting azure-identity\n",
            "  Downloading azure_identity-1.12.0-py3-none-any.whl (135 kB)\n",
            "\u001b[2K     \u001b[90m━━━━━━━━━━━━━━━━━━━━━━━━━━━━━━━━━━━━━━━\u001b[0m \u001b[32m135.5/135.5 kB\u001b[0m \u001b[31m7.9 MB/s\u001b[0m eta \u001b[36m0:00:00\u001b[0m\n",
            "\u001b[?25hCollecting azure-core<2.0.0,>=1.26.0\n",
            "  Downloading azure_core-1.26.4-py3-none-any.whl (173 kB)\n",
            "\u001b[2K     \u001b[90m━━━━━━━━━━━━━━━━━━━━━━━━━━━━━━━━━━━━━━\u001b[0m \u001b[32m173.9/173.9 kB\u001b[0m \u001b[31m12.1 MB/s\u001b[0m eta \u001b[36m0:00:00\u001b[0m\n",
            "\u001b[?25hRequirement already satisfied: typing-extensions>=4.0.1 in /usr/local/lib/python3.9/dist-packages (from azure-storage-blob) (4.5.0)\n",
            "Collecting isodate>=0.6.1\n",
            "  Downloading isodate-0.6.1-py2.py3-none-any.whl (41 kB)\n",
            "\u001b[2K     \u001b[90m━━━━━━━━━━━━━━━━━━━━━━━━━━━━━━━━━━━━━━━━\u001b[0m \u001b[32m41.7/41.7 kB\u001b[0m \u001b[31m3.3 MB/s\u001b[0m eta \u001b[36m0:00:00\u001b[0m\n",
            "\u001b[?25hRequirement already satisfied: cryptography>=2.1.4 in /usr/local/lib/python3.9/dist-packages (from azure-storage-blob) (40.0.2)\n",
            "Collecting msal-extensions<2.0.0,>=0.3.0\n",
            "  Downloading msal_extensions-1.0.0-py2.py3-none-any.whl (19 kB)\n",
            "Requirement already satisfied: six>=1.12.0 in /usr/local/lib/python3.9/dist-packages (from azure-identity) (1.16.0)\n",
            "Collecting msal<2.0.0,>=1.12.0\n",
            "  Downloading msal-1.22.0-py2.py3-none-any.whl (90 kB)\n",
            "\u001b[2K     \u001b[90m━━━━━━━━━━━━━━━━━━━━━━━━━━━━━━━━━━━━━━━━\u001b[0m \u001b[32m90.0/90.0 kB\u001b[0m \u001b[31m5.0 MB/s\u001b[0m eta \u001b[36m0:00:00\u001b[0m\n",
            "\u001b[?25hRequirement already satisfied: requests>=2.18.4 in /usr/local/lib/python3.9/dist-packages (from azure-core<2.0.0,>=1.26.0->azure-storage-blob) (2.27.1)\n",
            "Requirement already satisfied: cffi>=1.12 in /usr/local/lib/python3.9/dist-packages (from cryptography>=2.1.4->azure-storage-blob) (1.15.1)\n",
            "Collecting PyJWT[crypto]<3,>=1.0.0\n",
            "  Downloading PyJWT-2.6.0-py3-none-any.whl (20 kB)\n",
            "Collecting portalocker<3,>=1.0\n",
            "  Downloading portalocker-2.7.0-py2.py3-none-any.whl (15 kB)\n",
            "Requirement already satisfied: pycparser in /usr/local/lib/python3.9/dist-packages (from cffi>=1.12->cryptography>=2.1.4->azure-storage-blob) (2.21)\n",
            "Requirement already satisfied: charset-normalizer~=2.0.0 in /usr/local/lib/python3.9/dist-packages (from requests>=2.18.4->azure-core<2.0.0,>=1.26.0->azure-storage-blob) (2.0.12)\n",
            "Requirement already satisfied: idna<4,>=2.5 in /usr/local/lib/python3.9/dist-packages (from requests>=2.18.4->azure-core<2.0.0,>=1.26.0->azure-storage-blob) (3.4)\n",
            "Requirement already satisfied: urllib3<1.27,>=1.21.1 in /usr/local/lib/python3.9/dist-packages (from requests>=2.18.4->azure-core<2.0.0,>=1.26.0->azure-storage-blob) (1.26.15)\n",
            "Requirement already satisfied: certifi>=2017.4.17 in /usr/local/lib/python3.9/dist-packages (from requests>=2.18.4->azure-core<2.0.0,>=1.26.0->azure-storage-blob) (2022.12.7)\n",
            "Installing collected packages: PyJWT, portalocker, isodate, azure-core, azure-storage-blob, msal, msal-extensions, azure-identity\n",
            "Successfully installed PyJWT-2.6.0 azure-core-1.26.4 azure-identity-1.12.0 azure-storage-blob-12.16.0 isodate-0.6.1 msal-1.22.0 msal-extensions-1.0.0 portalocker-2.7.0\n"
          ]
        }
      ],
      "source": [
        "!pip install azure-storage-blob azure-identity"
      ]
    },
    {
      "cell_type": "code",
      "source": [
        "import os,uuid\n",
        "from azure.identity import DefaultAzureCredential\n",
        "from azure.storage.blob import BlobServiceClient, BlobClient, ContainerClient"
      ],
      "metadata": {
        "id": "7mXQ-wvhmh8Z"
      },
      "execution_count": 2,
      "outputs": []
    },
    {
      "cell_type": "code",
      "source": [
        "#Blob Services에 접속\n",
        "connect_str = 'DefaultEndpointsProtocol=https;AccountName=labuser63storage;AccountKey=aDAqle5JXwatVkMKzZmPto+Ba7+H54MK9Y0LhA2NRB0T21P93++4f0Sm+cejeybNyPVtS2S+xjOH+AStzQm59A==;EndpointSuffix=core.windows.net'\n",
        "blob_service_client=BlobServiceClient.from_connection_string(connect_str)"
      ],
      "metadata": {
        "id": "dHs0pvAkn7Qy"
      },
      "execution_count": 3,
      "outputs": []
    },
    {
      "cell_type": "code",
      "source": [
        "container_name = 'test2container'\n",
        "container_client = blob_service_client.create_container(container_name)"
      ],
      "metadata": {
        "id": "JywKTslqpsQx"
      },
      "execution_count": 22,
      "outputs": []
    },
    {
      "cell_type": "code",
      "source": [
        "# Create a local directory to hold blob data\n",
        "local_path = './data'\n",
        "os.mkdir(local_path)\n",
        "# Create a file in the local data directory to upload and download\n",
        "local_file_name = 'welcome' + '.txt'\n",
        "upload_file_path = os.path.join(local_path, local_file_name)\n",
        "\n",
        "#Write text to the file\n",
        "file = open(upload_file_path, mode='w')\n",
        "file.write('welcome ti Python')\n",
        "file.close()"
      ],
      "metadata": {
        "id": "zrJGS5YZqd-9"
      },
      "execution_count": 23,
      "outputs": []
    },
    {
      "cell_type": "code",
      "source": [
        "blob_client = blob_service_client.get_blob_client(container=container_name,blob=local_file_name)\n",
        "\n",
        "with open(file=upload_file_path, mode='rb') as data:    #rb= bin 파일로 읽는것.\n",
        "  blob_client.upload_blob(data)"
      ],
      "metadata": {
        "id": "D4eNKBu0tIKC"
      },
      "execution_count": 24,
      "outputs": []
    },
    {
      "cell_type": "code",
      "source": [
        "#blob 파일의 리스트를 확인\n",
        "print('\\nListing  blobs')\n",
        "\n",
        "blob_list = container_client.list_blobs()\n",
        "for blob in blob_list:\n",
        "  print('\\t' + blob.name)\n"
      ],
      "metadata": {
        "colab": {
          "base_uri": "https://localhost:8080/"
        },
        "id": "wdr7YQFNPITn",
        "outputId": "da7f1150-4c8e-4142-da94-45d64e4c59d3"
      },
      "execution_count": 26,
      "outputs": [
        {
          "output_type": "stream",
          "name": "stdout",
          "text": [
            "\n",
            "Listing  blobs\n",
            "\twelcome.txt\n"
          ]
        }
      ]
    },
    {
      "cell_type": "code",
      "source": [
        "# Download the blob to a loacl file\n",
        "# Add 'DOWNLOAD' before the .txt extension so you can see both files in the data directory. 파일명에 다운로드한 파일이라고 명시\n",
        "\n",
        "download_file_path = os.path.join(local_path, str.replace(local_file_name,'.txt','_DOWNLOAD.txt'))\n",
        "\n",
        "print(download_file_path)\n",
        "container_client = blob_service_client.get_container_client(container=container_name)\n",
        "\n",
        "with open(file=download_file_path, mode='wb')as download_file:                  #다운로드 파일을 로컬에 쓸것이기 때문에 rb가 아닌 wb로 사용\n",
        "  download_file.write(container_client.download_blob(blob.name).readall())      #readall() 전체 읽어들임"
      ],
      "metadata": {
        "colab": {
          "base_uri": "https://localhost:8080/"
        },
        "id": "1lxd4PjkQ8Uo",
        "outputId": "a2198898-8ad3-4d21-cd4d-fb062924a890"
      },
      "execution_count": 27,
      "outputs": [
        {
          "output_type": "stream",
          "name": "stdout",
          "text": [
            "./data/welcome_DOWNLOAD.txt\n"
          ]
        }
      ]
    },
    {
      "cell_type": "code",
      "source": [
        "#Clean Up\n",
        "print('\\nEnter the \"yes\" to begin clean up')      #print('\\n press enter to begin clean up')\n",
        "if input() == 'yes':\n",
        "\n",
        "  print('Deleting blob container...')\n",
        "  container_client.delete_container()\n",
        "  print('blob container has deleted')\n",
        "\n",
        "  print('Deleteing the local source and downloaded files...')\n",
        "  os.remove(upload_file_path)\n",
        "  os.remove(download_file_path)\n",
        "  os.rmdir(local_path)\n",
        "  print('local source and downloaded files deleted')\n",
        "\n",
        "  print('All done')\n"
      ],
      "metadata": {
        "colab": {
          "base_uri": "https://localhost:8080/"
        },
        "id": "d47EVFxCVUmc",
        "outputId": "ad5d6340-59b2-4c79-ac9c-dc6af8b50496"
      },
      "execution_count": 28,
      "outputs": [
        {
          "output_type": "stream",
          "name": "stdout",
          "text": [
            "\n",
            "Enter the \"yes\" to begin clean up\n",
            "yes\n",
            "Deleting blob container...\n",
            "blob container has deleted\n",
            "Deleteing the local source and downloaded files...\n",
            "local source and downloaded files deleted\n",
            "All done\n"
          ]
        }
      ]
    }
  ]
}